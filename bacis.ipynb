{
 "cells": [
  {
   "cell_type": "markdown",
   "metadata": {},
   "source": [
    "Data Types in python\n"
   ]
  },
  {
   "cell_type": "code",
   "execution_count": 2,
   "metadata": {},
   "outputs": [
    {
     "name": "stdout",
     "output_type": "stream",
     "text": [
      "10 <class 'int'>\n",
      "10.2 <class 'float'>\n",
      "Hello <class 'str'>\n",
      "True <class 'bool'>\n",
      "None <class 'NoneType'>\n",
      "[1, 2, 3] <class 'list'>\n",
      "(1, 2, 2, 2, 3) <class 'tuple'>\n",
      "{1, 2, 3} <class 'set'>\n",
      "{'a': 1, 'b': 2} <class 'dict'>\n"
     ]
    }
   ],
   "source": [
    "a = 10 # int\n",
    "print(a, type(a))\n",
    "\n",
    "a = 10.2 # float\n",
    "print(a, type(a))\n",
    "\n",
    "a = 'Hello' # str\n",
    "print(a, type(a))\n",
    "\n",
    "a = True # bool\n",
    "print(a, type(a))\n",
    "\n",
    "a = None # NoneType\n",
    "print(a, type(a))\n",
    "\n",
    "a = [1,2,3] # list\n",
    "print(a, type(a))\n",
    "\n",
    "a = (1,2,2,2,3) # tuple\n",
    "print(a, type(a))\n",
    "\n",
    "a = {1,2,3} # set\n",
    "print(a, type(a))\n",
    "\n",
    "a = {'a':1, 'b':2} # dict\n",
    "print(a, type(a))"
   ]
  },
  {
   "cell_type": "code",
   "execution_count": 4,
   "metadata": {},
   "outputs": [
    {
     "name": "stdout",
     "output_type": "stream",
     "text": [
      "\n",
      "5 10\n",
      "5 10 15\n",
      "5\n",
      "10\n",
      "15\n"
     ]
    }
   ],
   "source": [
    "print()\n",
    "a = 5\n",
    "b = 10\n",
    "print(a, b)\n",
    "print(a, b, a + b)\n",
    "print(a, b, a+b, sep='\\n') #Characte Escape Sequence"
   ]
  },
  {
   "cell_type": "code",
   "execution_count": 5,
   "metadata": {},
   "outputs": [
    {
     "name": "stdout",
     "output_type": "stream",
     "text": [
      "5, 10\n",
      "15\n"
     ]
    }
   ],
   "source": [
    "c = a + b\n",
    "print(a, end=', ')\n",
    "print(b)\n",
    "print(c)"
   ]
  },
  {
   "cell_type": "code",
   "execution_count": 6,
   "metadata": {},
   "outputs": [],
   "source": [
    "print = 12903"
   ]
  },
  {
   "cell_type": "code",
   "execution_count": 7,
   "metadata": {},
   "outputs": [],
   "source": [
    "del print"
   ]
  },
  {
   "cell_type": "code",
   "execution_count": 8,
   "metadata": {},
   "outputs": [
    {
     "name": "stdout",
     "output_type": "stream",
     "text": [
      "5\n"
     ]
    }
   ],
   "source": [
    "print(a)"
   ]
  },
  {
   "cell_type": "code",
   "execution_count": 9,
   "metadata": {},
   "outputs": [
    {
     "name": "stdout",
     "output_type": "stream",
     "text": [
      "Hello my value is 5\n"
     ]
    }
   ],
   "source": [
    "print('Hello', 'my value is', a)"
   ]
  },
  {
   "cell_type": "code",
   "execution_count": 14,
   "metadata": {},
   "outputs": [
    {
     "name": "stdout",
     "output_type": "stream",
     "text": [
      "my name is Alex, i am 17 years old, i live in London\n"
     ]
    }
   ],
   "source": [
    "name = 'Alex'\n",
    "age = 17\n",
    "city = 'London'\n",
    "print(f'my name is {name}, i am {age} years old, i live in {city}')"
   ]
  },
  {
   "cell_type": "code",
   "execution_count": 15,
   "metadata": {},
   "outputs": [
    {
     "name": "stdout",
     "output_type": "stream",
     "text": [
      "10/3 = 3.33\n",
      "10 / 3 = 3.33\n"
     ]
    }
   ],
   "source": [
    "x = 10\n",
    "y = 3\n",
    "z = x / y\n",
    "print(f'{x}/{y} = {z:.2f}')\n",
    "print(x,'/',y, '=', round(z,2))"
   ]
  },
  {
   "cell_type": "code",
   "execution_count": 19,
   "metadata": {},
   "outputs": [
    {
     "name": "stdout",
     "output_type": "stream",
     "text": [
      "Sara       22\n",
      "Elizabeth  21\n",
      "Sam        24\n"
     ]
    }
   ],
   "source": [
    "n1='Sara'\n",
    "n2='Elizabeth'\n",
    "n3='Sam'\n",
    "a1, a2, a3 = 22, 21, 24\n",
    "print(f'{n1:10} {a1}')\n",
    "print(f'{n2:10} {a2}')\n",
    "print(f'{n3:10} {a3}')"
   ]
  },
  {
   "cell_type": "markdown",
   "metadata": {},
   "source": [
    "Input Functions"
   ]
  },
  {
   "cell_type": "markdown",
   "metadata": {},
   "source": [
    "WAP to display details entered by a user, i.e, name , age , gender and height."
   ]
  },
  {
   "cell_type": "code",
   "execution_count": 23,
   "metadata": {},
   "outputs": [
    {
     "name": "stdout",
     "output_type": "stream",
     "text": [
      "User Details are as follows:\n",
      "Name: ankita\n",
      "Age: 24\n",
      "Gender: female\n",
      "Height 5\n"
     ]
    }
   ],
   "source": [
    "Name =(input('Enter your Name:'))\n",
    "Age =eval(input('Enter Age:'))\n",
    "Gender =(input('Enter Gender:'))\n",
    "Height =eval(input('Enter Height:'))\n",
    "print('User Details are as follows:')\n",
    "print('Name:', Name)\n",
    "print('Age:',Age)\n",
    "print('Gender:',Gender)\n",
    "print('Height',Height)"
   ]
  },
  {
   "cell_type": "markdown",
   "metadata": {},
   "source": [
    "Type Casting\n",
    " - Emplicit Conversion\n",
    " - Implicit Conversion"
   ]
  },
  {
   "cell_type": "code",
   "execution_count": 26,
   "metadata": {},
   "outputs": [
    {
     "name": "stdout",
     "output_type": "stream",
     "text": [
      "15\n",
      "17.7\n"
     ]
    }
   ],
   "source": [
    "#Emplicit Conversion (is me hum khud krte h )\n",
    "a=5\n",
    "b=10\n",
    "print(int(a)+int(b))\n",
    "\n",
    "#Implicit Conversion(is me python khud krta h)\n",
    "a=8.7\n",
    "b=9\n",
    "print(a+b)"
   ]
  }
 ],
 "metadata": {
  "kernelspec": {
   "display_name": "base",
   "language": "python",
   "name": "python3"
  },
  "language_info": {
   "codemirror_mode": {
    "name": "ipython",
    "version": 3
   },
   "file_extension": ".py",
   "mimetype": "text/x-python",
   "name": "python",
   "nbconvert_exporter": "python",
   "pygments_lexer": "ipython3",
   "version": "3.10.10"
  },
  "orig_nbformat": 4
 },
 "nbformat": 4,
 "nbformat_minor": 2
}
