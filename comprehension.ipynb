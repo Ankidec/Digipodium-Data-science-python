{
 "cells": [
  {
   "attachments": {},
   "cell_type": "markdown",
   "metadata": {},
   "source": [
    "normal code"
   ]
  },
  {
   "cell_type": "code",
   "execution_count": 3,
   "metadata": {},
   "outputs": [
    {
     "name": "stdout",
     "output_type": "stream",
     "text": [
      "[1, 2, 3, 4, 5, 6, 7, 8, 9, 10]\n",
      "[1, 4, 9, 16, 25, 36, 49, 64, 81, 100]\n"
     ]
    }
   ],
   "source": [
    "a=[1,2,3,4,5,6,7,8,9,10]\n",
    "a2=[]\n",
    "for i in a:\n",
    "    a2.append(i**2)\n",
    "print(a)\n",
    "print(a2)"
   ]
  },
  {
   "cell_type": "code",
   "execution_count": 4,
   "metadata": {},
   "outputs": [
    {
     "name": "stdout",
     "output_type": "stream",
     "text": [
      "[1, 8, 27, 64, 125, 216, 343, 512, 729, 1000]\n"
     ]
    }
   ],
   "source": [
    "a3=[i**3 for i in a] #newlist=[operation loops conditions like +,-,* etc]\n",
    "print(a3)"
   ]
  },
  {
   "attachments": {},
   "cell_type": "markdown",
   "metadata": {},
   "source": [
    "create a list of five names, then use comprehension to create another list that will contain only first letter from each name "
   ]
  },
  {
   "cell_type": "code",
   "execution_count": 8,
   "metadata": {},
   "outputs": [
    {
     "name": "stdout",
     "output_type": "stream",
     "text": [
      "['a', 'a', 'p', 'g', 's']\n"
     ]
    }
   ],
   "source": [
    "name=['anki','akku','pooja','golu','sweta']\n",
    "name2=[i[0] for i in name]\n",
    "print(name2) \n"
   ]
  },
  {
   "attachments": {},
   "cell_type": "markdown",
   "metadata": {},
   "source": [
    "commom code"
   ]
  },
  {
   "cell_type": "code",
   "execution_count": 10,
   "metadata": {},
   "outputs": [
    {
     "name": "stdout",
     "output_type": "stream",
     "text": [
      "[1, 2, 5, 3, 2, 1, 16, 8, 21, 56, 23, 6]\n",
      "[1.0, 1.0, 8.0, 4.0, 28.0, 3.0]\n"
     ]
    }
   ],
   "source": [
    "b=[1,2,5,3,2,1,16,8,21,56,23,6]\n",
    "b2=[]\n",
    "for i in b:\n",
    "    if i % 2 ==0:\n",
    "        b2.append(i/2)\n",
    "print(b)\n",
    "print(b2)        "
   ]
  },
  {
   "cell_type": "code",
   "execution_count": 11,
   "metadata": {},
   "outputs": [
    {
     "name": "stdout",
     "output_type": "stream",
     "text": [
      "[1.0, 1.0, 8.0, 4.0, 28.0, 3.0]\n"
     ]
    }
   ],
   "source": [
    "b3=[i/2 for i in b if i % 2 ==0]\n",
    "print(b3)"
   ]
  },
  {
   "attachments": {},
   "cell_type": "markdown",
   "metadata": {},
   "source": [
    "* wap to create a list of 10 numbers, then use comprehension to create another list of only odd number\n",
    "* wap to create a list of 10 number , then comprehension to create another list of only even number\n",
    "* wap to create a list a=['2','3','5','10'] then use comprehension to create another list of only int number\n",
    "* wap to add elements of 2 list in a 3rd list using comprehension , assuming both list are equal in length\n"
   ]
  },
  {
   "cell_type": "code",
   "execution_count": 3,
   "metadata": {},
   "outputs": [
    {
     "name": "stdout",
     "output_type": "stream",
     "text": [
      "[1, 3, 5, 7, 9]\n"
     ]
    }
   ],
   "source": [
    "a=[1,2,3,4,5,6,7,8,9,10]\n",
    "a2=[ i for i in a if i %2!=0]\n",
    "print(a2)"
   ]
  },
  {
   "cell_type": "code",
   "execution_count": 12,
   "metadata": {},
   "outputs": [
    {
     "name": "stdout",
     "output_type": "stream",
     "text": [
      "[2, 4, 6, 8, 10]\n"
     ]
    }
   ],
   "source": [
    "a=[1,2,3,4,5,6,7,8,9,10]\n",
    "a2=[i for i in a if i%2==0]\n",
    "print(a2)\n"
   ]
  },
  {
   "cell_type": "code",
   "execution_count": 13,
   "metadata": {},
   "outputs": [
    {
     "name": "stdout",
     "output_type": "stream",
     "text": [
      "[2, 3, 5, 10]\n"
     ]
    }
   ],
   "source": [
    "a=['2','3','5','10']\n",
    "a2=[int(i) for i in a]\n",
    "print(a2)"
   ]
  },
  {
   "cell_type": "code",
   "execution_count": 14,
   "metadata": {},
   "outputs": [
    {
     "name": "stdout",
     "output_type": "stream",
     "text": [
      "[12, 24, 36, 48, 60, 72, 84, 96, 108, 110]\n"
     ]
    }
   ],
   "source": [
    "a=[1,2,3,4,5,6,7,8,9,10]\n",
    "a2=[11,22,33,44,55,66,77,88,99,100]\n",
    "a3=[a[i]+a2[i] for i in range (len (a))]\n",
    "print(a3)"
   ]
  },
  {
   "attachments": {},
   "cell_type": "markdown",
   "metadata": {},
   "source": [
    "Enumerate \n",
    "Zip"
   ]
  },
  {
   "cell_type": "code",
   "execution_count": 5,
   "metadata": {},
   "outputs": [
    {
     "name": "stdout",
     "output_type": "stream",
     "text": [
      "0 red\n",
      "1 green\n",
      "2 blue\n",
      "3 black\n",
      "4 yellow\n"
     ]
    }
   ],
   "source": [
    "color=['red','green','blue','black','yellow']\n",
    "for i, j in enumerate (color):\n",
    "    print(i,j)"
   ]
  },
  {
   "cell_type": "code",
   "execution_count": 6,
   "metadata": {},
   "outputs": [
    {
     "name": "stdout",
     "output_type": "stream",
     "text": [
      "💥red\n",
      "✖ green\n",
      "💥blue\n",
      "✖ black\n",
      "💥yellow\n"
     ]
    }
   ],
   "source": [
    "for index, value in enumerate(color):\n",
    "    if index % 2==0:\n",
    "        print(f\"💥{value}\")\n",
    "    else:\n",
    "        print(f\"✖ {value}\")    "
   ]
  },
  {
   "attachments": {},
   "cell_type": "markdown",
   "metadata": {},
   "source": [
    "zip(when you want to pass multipal value)"
   ]
  },
  {
   "cell_type": "code",
   "execution_count": 10,
   "metadata": {},
   "outputs": [
    {
     "name": "stdout",
     "output_type": "stream",
     "text": [
      "Alex got 56  in hindi\n",
      "Mary got 78  in hindi\n",
      "Sam got 90  in hindi\n",
      "Alice got 45  in hindi\n"
     ]
    }
   ],
   "source": [
    "name=['Alex','Mary','Sam','Alice']\n",
    "hindi=[56,78,90,45]\n",
    "english=[67,89,90,78]\n",
    "for n, i ,  in zip(name,hindi):\n",
    "    print(f'{n} got {i}  in hindi')"
   ]
  },
  {
   "cell_type": "code",
   "execution_count": 11,
   "metadata": {},
   "outputs": [
    {
     "name": "stdout",
     "output_type": "stream",
     "text": [
      "Alex       hindi =56, english =67|total =123\n",
      "Mary       hindi =78, english =89|total =167\n",
      "Sam        hindi =90, english =90|total =180\n",
      "Alice      hindi =45, english =78|total =123\n"
     ]
    }
   ],
   "source": [
    "for n, h, e in zip (name, hindi,english ):\n",
    "    print(f'{n:<10} hindi ={h}, english ={e}|total ={h+e}')"
   ]
  }
 ],
 "metadata": {
  "kernelspec": {
   "display_name": "base",
   "language": "python",
   "name": "python3"
  },
  "language_info": {
   "codemirror_mode": {
    "name": "ipython",
    "version": 3
   },
   "file_extension": ".py",
   "mimetype": "text/x-python",
   "name": "python",
   "nbconvert_exporter": "python",
   "pygments_lexer": "ipython3",
   "version": "3.10.10"
  },
  "orig_nbformat": 4
 },
 "nbformat": 4,
 "nbformat_minor": 2
}
