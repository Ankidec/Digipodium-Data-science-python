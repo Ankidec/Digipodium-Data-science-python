{
 "cells": [
  {
   "attachments": {},
   "cell_type": "markdown",
   "metadata": {},
   "source": [
    "#CONDITION \n",
    "#IF \n",
    "#IF ELSE\n",
    "#IF ELIF \n",
    "#NESTED IF "
   ]
  },
  {
   "attachments": {},
   "cell_type": "markdown",
   "metadata": {},
   "source": [
    "IF [condition expression]:\n",
    "     [statements to execute]"
   ]
  },
  {
   "cell_type": "code",
   "execution_count": 1,
   "metadata": {},
   "outputs": [
    {
     "name": "stdout",
     "output_type": "stream",
     "text": [
      "Even Number\n"
     ]
    }
   ],
   "source": [
    "a=int(input(\"Enter a number :\"))\n",
    "if a%2==0:\n",
    "    print(\"Even Number\")"
   ]
  },
  {
   "attachments": {},
   "cell_type": "markdown",
   "metadata": {},
   "source": [
    "IF[condition expression]:\n",
    "      [statements to execute]\n",
    "else:\n",
    "      [alternate statement to execute]"
   ]
  },
  {
   "cell_type": "code",
   "execution_count": 2,
   "metadata": {},
   "outputs": [
    {
     "name": "stdout",
     "output_type": "stream",
     "text": [
      "Odd Number\n"
     ]
    }
   ],
   "source": [
    "a=int(input(\"Enter a number :\"))\n",
    "if a%2==0:\n",
    "    print(\"Even Number\")\n",
    "else:\n",
    "    print(\"Odd Number\")    "
   ]
  },
  {
   "attachments": {},
   "cell_type": "markdown",
   "metadata": {},
   "source": [
    "IF elif eise statement "
   ]
  },
  {
   "cell_type": "code",
   "execution_count": 6,
   "metadata": {},
   "outputs": [
    {
     "name": "stdout",
     "output_type": "stream",
     "text": [
      "first Div\n"
     ]
    }
   ],
   "source": [
    "per=int(input(\"Enter a number:\"))\n",
    "if per >=60:\n",
    "    print(\"first Div\")\n",
    "elif per >=48:\n",
    "    print(\"Second Div\")\n",
    "elif per >=35:\n",
    "    print(\"Third Div\")\n",
    "else:\n",
    "    print(\"fail\")            "
   ]
  },
  {
   "cell_type": "code",
   "execution_count": 7,
   "metadata": {},
   "outputs": [
    {
     "name": "stdout",
     "output_type": "stream",
     "text": [
      "Email is invalid 😥\n"
     ]
    }
   ],
   "source": [
    "username=input(\"Enter your user name:\")\n",
    "email=input(\"Enter your email:\")\n",
    "pwd=input(\"Enter your password: \")\n",
    "pwd2=input(\"Enter your password again\")\n",
    "if len (username)>=4 and len (username)<=15:\n",
    "    if'@'in email and email.islowe() and len(email)>10:\n",
    "        if len(pwd)>=6 and pwd!=username :\n",
    "            if pwd==pwd2:\n",
    "                print(\"success😊😃\")\n",
    "            else:\n",
    "                print(\"password doesn't match 🤦‍♀️\")\n",
    "        else:\n",
    "            print(\"password is invalid 🤦‍♀️\")    \n",
    "    else:\n",
    "        print(\"Email is invalid 😥\")\n",
    "else:\n",
    "    print(\"Username is invalid 🤦‍♂️\")                    \n"
   ]
  }
 ],
 "metadata": {
  "kernelspec": {
   "display_name": "base",
   "language": "python",
   "name": "python3"
  },
  "language_info": {
   "codemirror_mode": {
    "name": "ipython",
    "version": 3
   },
   "file_extension": ".py",
   "mimetype": "text/x-python",
   "name": "python",
   "nbconvert_exporter": "python",
   "pygments_lexer": "ipython3",
   "version": "3.11.3"
  },
  "orig_nbformat": 4
 },
 "nbformat": 4,
 "nbformat_minor": 2
}
