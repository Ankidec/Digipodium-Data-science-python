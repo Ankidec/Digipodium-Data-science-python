{
 "cells": [
  {
   "attachments": {},
   "cell_type": "markdown",
   "metadata": {},
   "source": [
    "Dictionary{ } is me complex data ko rkha jata h \n",
    "digi={'key':'value'}"
   ]
  },
  {
   "cell_type": "code",
   "execution_count": 5,
   "metadata": {},
   "outputs": [],
   "source": [
    "students={\n",
    "          'Maulik':'MU',\n",
    "          'Aman':'NPGC',\n",
    "          'Abhay':'NPGC',\n",
    "          'Mazzhir':'AU',\n",
    "          'Imadul':'IU',\n",
    "         'Prashutosh':'Shuats',\n",
    "         'Ankita':'Gpl'\n",
    "}"
   ]
  },
  {
   "cell_type": "code",
   "execution_count": 7,
   "metadata": {},
   "outputs": [
    {
     "name": "stdout",
     "output_type": "stream",
     "text": [
      "{'Maulik': 'MU', 'Aman': 'NPGC', 'Abhay': 'NPGC', 'Mazzhir': 'AU', 'Imadul': 'IU', 'Prashutosh': 'Shuats', 'Ankita': 'Gpl'}\n"
     ]
    }
   ],
   "source": [
    "print(students)"
   ]
  },
  {
   "cell_type": "code",
   "execution_count": 9,
   "metadata": {},
   "outputs": [
    {
     "data": {
      "text/plain": [
       "'Gpl'"
      ]
     },
     "execution_count": 9,
     "metadata": {},
     "output_type": "execute_result"
    }
   ],
   "source": [
    "students['Ankita']"
   ]
  },
  {
   "cell_type": "code",
   "execution_count": null,
   "metadata": {},
   "outputs": [],
   "source": [
    "report = {'class10':{\n",
    "    'rohan':{ \n",
    "        'english':90,\n",
    "        'maths':95,\n",
    "        'hindi':95,\n",
    "        'science':95,\n",
    "        'p.e':95,\n",
    "            },\n",
    "    'mohit':{\n",
    "        'english':50,\n",
    "        'maths':55,\n",
    "        'hindi':45,\n",
    "        'science':55,\n",
    "        'social':55,\n",
    "        'p.e':95,\n",
    "            },\n",
    "    'shreya':{\n",
    "        'english':92,\n",
    "        'maths':55,\n",
    "        'hindi':45,\n",
    "        'science':65,\n",
    "        'social':45,\n",
    "        'p.e':67,\n",
    "             },\n",
    "    'shubham':{\n",
    "        'english':78,\n",
    "        'maths':67,\n",
    "        'hindi':56,\n",
    "        'science':98,\n",
    "        'social':56,\n",
    "        'p.e':'50',\n",
    "             },\n",
    "    'shruti':{\n",
    "        'english'89,\n",
    "        'maths':78,\n",
    "        'hindi':67,\n",
    "        'science':56,\n",
    "        'social':45,\n",
    "        'p.e':78,\n",
    "            },\n",
    "    'alex':{\n",
    "        'english':78,\n",
    "        'maths':56,\n",
    "        'hindi':46,\n",
    "        'science':78,\n",
    "        'social':87,\n",
    "        'p.e':76\n",
    "          },\n",
    "}   }"
   ]
  }
 ],
 "metadata": {
  "kernelspec": {
   "display_name": "base",
   "language": "python",
   "name": "python3"
  },
  "language_info": {
   "codemirror_mode": {
    "name": "ipython",
    "version": 3
   },
   "file_extension": ".py",
   "mimetype": "text/x-python",
   "name": "python",
   "nbconvert_exporter": "python",
   "pygments_lexer": "ipython3",
   "version": "3.10.10"
  },
  "orig_nbformat": 4
 },
 "nbformat": 4,
 "nbformat_minor": 2
}
