{
 "cells": [
  {
   "attachments": {},
   "cell_type": "markdown",
   "metadata": {},
   "source": [
    "Dictionary{ } is me complex data ko rkha jata h \n",
    "digi={'key':'value'}"
   ]
  },
  {
   "cell_type": "code",
   "execution_count": 61,
   "metadata": {},
   "outputs": [],
   "source": [
    "students = {\n",
    "    'Maulik' : {\n",
    "        'college':'MU',\n",
    "        'type':'offline'\n",
    "    },\n",
    "    'Aman' : 'NPGC',\n",
    "    'Abhay': 'NPGC',\n",
    "    'Mazahir': 'AU',\n",
    "    'Imadul': 'IU',\n",
    "    'Prashutosh': 'SHUATS',\n",
    "    'Shoeb': {\n",
    "        'college': 'IET',\n",
    "        'type':'online'\n",
    "    },\n",
    "    'Mandavi': {\n",
    "         'college':'HNBGU',\n",
    "        'type':'online'\n",
    "    }\n",
    "}"
   ]
  },
  {
   "cell_type": "code",
   "execution_count": 62,
   "metadata": {},
   "outputs": [],
   "source": [
    "from pprint import pp"
   ]
  },
  {
   "cell_type": "code",
   "execution_count": 63,
   "metadata": {},
   "outputs": [
    {
     "name": "stdout",
     "output_type": "stream",
     "text": [
      "{'Maulik': {'college': 'MU', 'type': 'offline'},\n",
      " 'Aman': 'NPGC',\n",
      " 'Abhay': 'NPGC',\n",
      " 'Mazahir': 'AU',\n",
      " 'Imadul': 'IU',\n",
      " 'Prashutosh': 'SHUATS',\n",
      " 'Shoeb': {'college': 'IET', 'type': 'online'},\n",
      " 'Mandavi': {'college': 'HNBGU', 'type': 'online'}}\n"
     ]
    }
   ],
   "source": [
    "pp(students)"
   ]
  },
  {
   "cell_type": "code",
   "execution_count": 64,
   "metadata": {},
   "outputs": [],
   "source": [
    "report = {\n",
    "    'class10': {\n",
    "        'rohan': {\n",
    "            'english': 90,\n",
    "            'maths': 95,\n",
    "            'hindi': 85,\n",
    "            'science': 95,\n",
    "            'social': 95,\n",
    "            'p.e.': 95,\n",
    "        },\n",
    "        'mohit': {\n",
    "            'english': 50,\n",
    "            'maths': 55,\n",
    "            'hindi': 45,\n",
    "            'science': 55,\n",
    "            'social': 55,\n",
    "            'p.e.': 95,\n",
    "        },\n",
    "        'shreya': {\n",
    "            'english': 72,\n",
    "            'maths': 75,\n",
    "            'hindi': 65,\n",
    "            'science': 75,\n",
    "            'social': 75,\n",
    "            'p.e.': 75,\n",
    "        },\n",
    "        'shubham': {\n",
    "            'english': 82,\n",
    "            'maths': 85,\n",
    "            'hindi': 75,\n",
    "            'science': 85,\n",
    "            'social': 85,\n",
    "            'p.e.': 85,\n",
    "        },\n",
    "        'shruti': {\n",
    "            'english': 92,\n",
    "            'maths': 55,\n",
    "            'hindi': 85,\n",
    "            'science': 65,\n",
    "            'social': 95,\n",
    "            'p.e.': 95,\n",
    "        },   \n",
    "        'alex':{\n",
    "            'english': 92,\n",
    "            'maths': 55,\n",
    "            'hindi': 82,\n",
    "            'science': 61,\n",
    "            'social': 95,\n",
    "             'p.e.': 95,\n",
    "        },     \n",
    "    }\n",
    "}"
   ]
  },
  {
   "cell_type": "code",
   "execution_count": 65,
   "metadata": {},
   "outputs": [],
   "source": [
    "from pprint import pp"
   ]
  },
  {
   "cell_type": "code",
   "execution_count": 66,
   "metadata": {},
   "outputs": [
    {
     "name": "stdout",
     "output_type": "stream",
     "text": [
      "{'class10': {'rohan': {'english': 90,\n",
      "                       'maths': 95,\n",
      "                       'hindi': 85,\n",
      "                       'science': 95,\n",
      "                       'social': 95,\n",
      "                       'p.e.': 95},\n",
      "             'mohit': {'english': 50,\n",
      "                       'maths': 55,\n",
      "                       'hindi': 45,\n",
      "                       'science': 55,\n",
      "                       'social': 55,\n",
      "                       'p.e.': 95},\n",
      "             'shreya': {'english': 72,\n",
      "                        'maths': 75,\n",
      "                        'hindi': 65,\n",
      "                        'science': 75,\n",
      "                        'social': 75,\n",
      "                        'p.e.': 75},\n",
      "             'shubham': {'english': 82,\n",
      "                         'maths': 85,\n",
      "                         'hindi': 75,\n",
      "                         'science': 85,\n",
      "                         'social': 85,\n",
      "                         'p.e.': 85},\n",
      "             'shruti': {'english': 92,\n",
      "                        'maths': 55,\n",
      "                        'hindi': 85,\n",
      "                        'science': 65,\n",
      "                        'social': 95,\n",
      "                        'p.e.': 95},\n",
      "             'alex': {'english': 92,\n",
      "                      'maths': 55,\n",
      "                      'hindi': 82,\n",
      "                      'science': 61,\n",
      "                      'social': 95,\n",
      "                      'p.e.': 95}}}\n"
     ]
    }
   ],
   "source": [
    "pp(report)"
   ]
  },
  {
   "cell_type": "code",
   "execution_count": 67,
   "metadata": {},
   "outputs": [
    {
     "data": {
      "text/plain": [
       "dict_values([{'rohan': {'english': 90, 'maths': 95, 'hindi': 85, 'science': 95, 'social': 95, 'p.e.': 95}, 'mohit': {'english': 50, 'maths': 55, 'hindi': 45, 'science': 55, 'social': 55, 'p.e.': 95}, 'shreya': {'english': 72, 'maths': 75, 'hindi': 65, 'science': 75, 'social': 75, 'p.e.': 75}, 'shubham': {'english': 82, 'maths': 85, 'hindi': 75, 'science': 85, 'social': 85, 'p.e.': 85}, 'shruti': {'english': 92, 'maths': 55, 'hindi': 85, 'science': 65, 'social': 95, 'p.e.': 95}, 'alex': {'english': 92, 'maths': 55, 'hindi': 82, 'science': 61, 'social': 95, 'p.e.': 95}}])"
      ]
     },
     "execution_count": 67,
     "metadata": {},
     "output_type": "execute_result"
    }
   ],
   "source": [
    "report.values()"
   ]
  },
  {
   "cell_type": "code",
   "execution_count": 68,
   "metadata": {},
   "outputs": [
    {
     "name": "stdout",
     "output_type": "stream",
     "text": [
      "dict_values([{'english': 90, 'maths': 95, 'hindi': 85, 'science': 95, 'social': 95, 'p.e.': 95}, {'english': 50, 'maths': 55, 'hindi': 45, 'science': 55, 'social': 55, 'p.e.': 95}, {'english': 72, 'maths': 75, 'hindi': 65, 'science': 75, 'social': 75, 'p.e.': 75}, {'english': 82, 'maths': 85, 'hindi': 75, 'science': 85, 'social': 85, 'p.e.': 85}, {'english': 92, 'maths': 55, 'hindi': 85, 'science': 65, 'social': 95, 'p.e.': 95}, {'english': 92, 'maths': 55, 'hindi': 82, 'science': 61, 'social': 95, 'p.e.': 95}])\n"
     ]
    }
   ],
   "source": [
    "print(report['class10'].values())"
   ]
  },
  {
   "cell_type": "code",
   "execution_count": 69,
   "metadata": {},
   "outputs": [],
   "source": [
    "movies = {\n",
    "    '3 idiots' : 'a story about 3 idiot frds',\n",
    "    'lunchbox' : 'a story about a lunchbox',\n",
    "    'dangal' : 'a story about a wrestler',\n",
    "    'pk' : 'a story about an alien',\n",
    "    'taara zameen par' :'a story about a dyslexic child',\n",
    "}"
   ]
  },
  {
   "cell_type": "code",
   "execution_count": 70,
   "metadata": {},
   "outputs": [
    {
     "data": {
      "text/plain": [
       "dict_items([('3 idiots', 'a story about 3 idiot frds'), ('lunchbox', 'a story about a lunchbox'), ('dangal', 'a story about a wrestler'), ('pk', 'a story about an alien'), ('taara zameen par', 'a story about a dyslexic child')])"
      ]
     },
     "execution_count": 70,
     "metadata": {},
     "output_type": "execute_result"
    }
   ],
   "source": [
    "movies.items() # is use dic ke sath loop me karte h"
   ]
  },
  {
   "cell_type": "code",
   "execution_count": 71,
   "metadata": {},
   "outputs": [
    {
     "name": "stdout",
     "output_type": "stream",
     "text": [
      "3 idiots            a story about 3 idiot frds\n",
      "lunchbox            a story about a lunchbox\n",
      "dangal              a story about a wrestler\n",
      "pk                  a story about an alien\n",
      "taara zameen par    a story about a dyslexic child\n"
     ]
    }
   ],
   "source": [
    "for k, v in movies.items():\n",
    "    print(f'{k:20}{v}')"
   ]
  },
  {
   "cell_type": "code",
   "execution_count": 72,
   "metadata": {},
   "outputs": [
    {
     "data": {
      "text/plain": [
       "True"
      ]
     },
     "execution_count": 72,
     "metadata": {},
     "output_type": "execute_result"
    }
   ],
   "source": [
    "isinstance(report['class10'],dict) #verify if the object is a data type"
   ]
  },
  {
   "cell_type": "code",
   "execution_count": 73,
   "metadata": {},
   "outputs": [
    {
     "name": "stdout",
     "output_type": "stream",
     "text": [
      "class10\n",
      "-> rohan\n",
      " -> english = 90\n",
      " -> maths = 95\n",
      " -> hindi = 85\n",
      " -> science = 95\n",
      " -> social = 95\n",
      " -> p.e. = 95\n",
      "-> mohit\n",
      " -> english = 50\n",
      " -> maths = 55\n",
      " -> hindi = 45\n",
      " -> science = 55\n",
      " -> social = 55\n",
      " -> p.e. = 95\n",
      "-> shreya\n",
      " -> english = 72\n",
      " -> maths = 75\n",
      " -> hindi = 65\n",
      " -> science = 75\n",
      " -> social = 75\n",
      " -> p.e. = 75\n",
      "-> shubham\n",
      " -> english = 82\n",
      " -> maths = 85\n",
      " -> hindi = 75\n",
      " -> science = 85\n",
      " -> social = 85\n",
      " -> p.e. = 85\n",
      "-> shruti\n",
      " -> english = 92\n",
      " -> maths = 55\n",
      " -> hindi = 85\n",
      " -> science = 65\n",
      " -> social = 95\n",
      " -> p.e. = 95\n",
      "-> alex\n",
      " -> english = 92\n",
      " -> maths = 55\n",
      " -> hindi = 82\n",
      " -> science = 61\n",
      " -> social = 95\n",
      " -> p.e. = 95\n"
     ]
    }
   ],
   "source": [
    "for cls, students in report.items():\n",
    "    print(cls)\n",
    "    if isinstance (students, dict):\n",
    "        for name,subjects in students.items():\n",
    "            print('->', name)\n",
    "            if isinstance(subjects, dict):\n",
    "                for subject, marks in subjects.items():\n",
    "                    print(' ->', subject,'=', marks)"
   ]
  },
  {
   "cell_type": "code",
   "execution_count": 74,
   "metadata": {},
   "outputs": [
    {
     "name": "stdout",
     "output_type": "stream",
     "text": [
      "class10\n",
      "-> rohan\n",
      "total-> 90\n",
      "total-> 185\n",
      "total-> 270\n",
      "total-> 365\n",
      "total-> 460\n",
      "total-> 555\n",
      "-> mohit\n",
      "total-> 50\n",
      "total-> 105\n",
      "total-> 150\n",
      "total-> 205\n",
      "total-> 260\n",
      "total-> 355\n",
      "-> shreya\n",
      "total-> 72\n",
      "total-> 147\n",
      "total-> 212\n",
      "total-> 287\n",
      "total-> 362\n",
      "total-> 437\n",
      "-> shubham\n",
      "total-> 82\n",
      "total-> 167\n",
      "total-> 242\n",
      "total-> 327\n",
      "total-> 412\n",
      "total-> 497\n",
      "-> shruti\n",
      "total-> 92\n",
      "total-> 147\n",
      "total-> 232\n",
      "total-> 297\n",
      "total-> 392\n",
      "total-> 487\n",
      "-> alex\n",
      "total-> 92\n",
      "total-> 147\n",
      "total-> 229\n",
      "total-> 290\n",
      "total-> 385\n",
      "total-> 480\n"
     ]
    }
   ],
   "source": [
    "for cls, students in report.items():\n",
    "    print(cls)\n",
    "    if isinstance (students, dict):\n",
    "        for name,subjects in students.items():\n",
    "            print('->', name)\n",
    "            if isinstance(subjects, dict):\n",
    "                total = 0 # reset total for each student\n",
    "                for subject, marks in subjects.items():\n",
    "                    total += marks\n",
    "                    print('total->',total)"
   ]
  },
  {
   "cell_type": "code",
   "execution_count": 75,
   "metadata": {},
   "outputs": [
    {
     "name": "stdout",
     "output_type": "stream",
     "text": [
      "class10\n",
      "-> rohan\n",
      "avg-> 15\n",
      "avg-> 30\n",
      "avg-> 45\n",
      "avg-> 60\n",
      "avg-> 76\n",
      "avg-> 92\n",
      "-> mohit\n",
      "avg-> 8\n",
      "avg-> 17\n",
      "avg-> 25\n",
      "avg-> 34\n",
      "avg-> 43\n",
      "avg-> 59\n",
      "-> shreya\n",
      "avg-> 12\n",
      "avg-> 24\n",
      "avg-> 35\n",
      "avg-> 47\n",
      "avg-> 60\n",
      "avg-> 72\n",
      "-> shubham\n",
      "avg-> 13\n",
      "avg-> 27\n",
      "avg-> 40\n",
      "avg-> 54\n",
      "avg-> 68\n",
      "avg-> 82\n",
      "-> shruti\n",
      "avg-> 15\n",
      "avg-> 24\n",
      "avg-> 38\n",
      "avg-> 49\n",
      "avg-> 65\n",
      "avg-> 81\n",
      "-> alex\n",
      "avg-> 15\n",
      "avg-> 24\n",
      "avg-> 38\n",
      "avg-> 48\n",
      "avg-> 64\n",
      "avg-> 80\n"
     ]
    }
   ],
   "source": [
    "for cls, students in report.items():\n",
    "    print(cls)\n",
    "    if isinstance (students, dict):\n",
    "        for name,subjects in students.items():\n",
    "            print('->', name)\n",
    "            if isinstance(subjects, dict):\n",
    "                total = 0 # reset total for each student\n",
    "                for subject, marks in subjects.items():\n",
    "                    total += marks\n",
    "                    print('avg->',total//6)"
   ]
  },
  {
   "cell_type": "code",
   "execution_count": 52,
   "metadata": {},
   "outputs": [
    {
     "name": "stdout",
     "output_type": "stream",
     "text": [
      "class10\n",
      "-> rohan\n",
      "avg-> 92\n",
      "-> mohit\n",
      "avg-> 59\n",
      "-> shreya\n",
      "avg-> 72\n",
      "-> shubham\n",
      "avg-> 82\n",
      "-> shruti\n",
      "avg-> 81\n",
      "-> alex\n",
      "avg-> 80\n"
     ]
    }
   ],
   "source": [
    "for cls, students in report.items():\n",
    "    print(cls)\n",
    "    if isinstance (students, dict):\n",
    "        for name,subjects in students.items():\n",
    "            print('->', name)\n",
    "            if isinstance(subjects, dict):\n",
    "                total = sum (subjects.values())\n",
    "                print('avg->', total//6)"
   ]
  },
  {
   "cell_type": "code",
   "execution_count": 59,
   "metadata": {},
   "outputs": [
    {
     "name": "stdout",
     "output_type": "stream",
     "text": [
      "class10\n",
      "-> rohan\n",
      " max-> maths 95\n",
      "-> mohit\n",
      " max-> p.e. 95\n",
      "-> shreya\n",
      " max-> maths 75\n",
      "-> shubham\n",
      " max-> maths 85\n",
      "-> shruti\n",
      " max-> social 95\n",
      "-> alex\n",
      " max-> social 95\n"
     ]
    }
   ],
   "source": [
    "for cls, students in report.items():\n",
    "    print(cls)\n",
    "    if isinstance (students, dict):\n",
    "        for name,subjects in students.items():\n",
    "            print('->', name)\n",
    "            if isinstance(subjects, dict):\n",
    "                mm = None\n",
    "                sub = None\n",
    "            for subject, marks in subjects. items():\n",
    "                if mm is None or mm < marks:\n",
    "                    mm = marks\n",
    "                    sub = subject    \n",
    "            print(' max->',sub,mm)        \n"
   ]
  }
 ],
 "metadata": {
  "kernelspec": {
   "display_name": "base",
   "language": "python",
   "name": "python3"
  },
  "language_info": {
   "codemirror_mode": {
    "name": "ipython",
    "version": 3
   },
   "file_extension": ".py",
   "mimetype": "text/x-python",
   "name": "python",
   "nbconvert_exporter": "python",
   "pygments_lexer": "ipython3",
   "version": "3.10.10"
  },
  "orig_nbformat": 4
 },
 "nbformat": 4,
 "nbformat_minor": 2
}
