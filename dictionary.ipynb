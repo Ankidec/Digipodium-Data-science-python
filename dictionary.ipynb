{
 "cells": [
  {
   "attachments": {},
   "cell_type": "markdown",
   "metadata": {},
   "source": [
    "Dictionary{ } is me complex data ko rkha jata h \n",
    "digi={'key':'value'}"
   ]
  },
  {
   "cell_type": "code",
   "execution_count": 1,
   "metadata": {},
   "outputs": [],
   "source": [
    "book = {\n",
    "    'title': 'The Final Empire',\n",
    "    'author': 'Brandon Sanderson',\n",
    "    'price' : 1499,\n",
    "    'publisher': 'Tor Books',\n",
    "    'year' : 2006,\n",
    "    'pages' : 541,\n",
    "    'languages': ['english','french','spanish']   \n",
    "}"
   ]
  },
  {
   "cell_type": "code",
   "execution_count": 3,
   "metadata": {},
   "outputs": [
    {
     "name": "stdout",
     "output_type": "stream",
     "text": [
      "{'title': 'The Final Empire', 'author': 'Brandon Sanderson', 'price': 1499, 'publisher': 'Tor Books', 'year': 2006, 'pages': 541, 'languages': ['english', 'french', 'spanish'], 'rating': 4.9, 'type': 'paperback'}\n"
     ]
    }
   ],
   "source": [
    "book['rating']= 4.9\n",
    "book['type'] = 'paperback'\n",
    "print(book)"
   ]
  },
  {
   "cell_type": "code",
   "execution_count": 2,
   "metadata": {},
   "outputs": [
    {
     "data": {
      "text/plain": [
       "541"
      ]
     },
     "execution_count": 2,
     "metadata": {},
     "output_type": "execute_result"
    }
   ],
   "source": [
    "book['pages']"
   ]
  },
  {
   "cell_type": "code",
   "execution_count": 4,
   "metadata": {},
   "outputs": [
    {
     "data": {
      "text/plain": [
       "541"
      ]
     },
     "execution_count": 4,
     "metadata": {},
     "output_type": "execute_result"
    }
   ],
   "source": [
    "book.pop('pages')"
   ]
  },
  {
   "cell_type": "code",
   "execution_count": 5,
   "metadata": {},
   "outputs": [
    {
     "data": {
      "text/plain": [
       "{'title': 'The Final Empire',\n",
       " 'author': 'Brandon Sanderson',\n",
       " 'price': 1499,\n",
       " 'publisher': 'Tor Books',\n",
       " 'year': 2006,\n",
       " 'languages': ['english', 'french', 'spanish'],\n",
       " 'rating': 4.9,\n",
       " 'type': 'paperback'}"
      ]
     },
     "execution_count": 5,
     "metadata": {},
     "output_type": "execute_result"
    }
   ],
   "source": [
    "book"
   ]
  },
  {
   "cell_type": "code",
   "execution_count": 6,
   "metadata": {},
   "outputs": [
    {
     "data": {
      "text/plain": [
       "['title',\n",
       " 'author',\n",
       " 'price',\n",
       " 'publisher',\n",
       " 'year',\n",
       " 'languages',\n",
       " 'rating',\n",
       " 'type']"
      ]
     },
     "execution_count": 6,
     "metadata": {},
     "output_type": "execute_result"
    }
   ],
   "source": [
    "list(book.keys())"
   ]
  },
  {
   "cell_type": "code",
   "execution_count": 7,
   "metadata": {},
   "outputs": [
    {
     "data": {
      "text/plain": [
       "['The Final Empire',\n",
       " 'Brandon Sanderson',\n",
       " 1499,\n",
       " 'Tor Books',\n",
       " 2006,\n",
       " ['english', 'french', 'spanish'],\n",
       " 4.9,\n",
       " 'paperback']"
      ]
     },
     "execution_count": 7,
     "metadata": {},
     "output_type": "execute_result"
    }
   ],
   "source": [
    "list(book.values())"
   ]
  },
  {
   "cell_type": "code",
   "execution_count": 8,
   "metadata": {},
   "outputs": [
    {
     "data": {
      "text/plain": [
       "[('title', 'The Final Empire'),\n",
       " ('author', 'Brandon Sanderson'),\n",
       " ('price', 1499),\n",
       " ('publisher', 'Tor Books'),\n",
       " ('year', 2006),\n",
       " ('languages', ['english', 'french', 'spanish']),\n",
       " ('rating', 4.9),\n",
       " ('type', 'paperback')]"
      ]
     },
     "execution_count": 8,
     "metadata": {},
     "output_type": "execute_result"
    }
   ],
   "source": [
    "list(book.items()) # key value pair as tuple"
   ]
  },
  {
   "cell_type": "code",
   "execution_count": 9,
   "metadata": {},
   "outputs": [
    {
     "data": {
      "text/plain": [
       "'Tor Books'"
      ]
     },
     "execution_count": 9,
     "metadata": {},
     "output_type": "execute_result"
    }
   ],
   "source": [
    "book.get('publisher')"
   ]
  },
  {
   "cell_type": "code",
   "execution_count": 10,
   "metadata": {},
   "outputs": [
    {
     "data": {
      "text/plain": [
       "'Tor Books'"
      ]
     },
     "execution_count": 10,
     "metadata": {},
     "output_type": "execute_result"
    }
   ],
   "source": [
    "book.get('publisher', 'not found')"
   ]
  },
  {
   "cell_type": "code",
   "execution_count": 11,
   "metadata": {},
   "outputs": [
    {
     "data": {
      "text/plain": [
       "'not found'"
      ]
     },
     "execution_count": 11,
     "metadata": {},
     "output_type": "execute_result"
    }
   ],
   "source": [
    "book.get('Publisher', 'not found')"
   ]
  },
  {
   "cell_type": "code",
   "execution_count": 13,
   "metadata": {},
   "outputs": [
    {
     "name": "stdout",
     "output_type": "stream",
     "text": [
      "{'om santi om': 4.0, 'hum sath sath h ': 5.0, '5': 7.0}\n"
     ]
    }
   ],
   "source": [
    "myrating = {}\n",
    "for i in range(1,4):\n",
    "    name = input(f'enter the name of movie {i}:')\n",
    "    rating = float(input(f'enter the rating of movie {i}:'))\n",
    "    myrating[name] = rating\n",
    "\n",
    "print(myrating)"
   ]
  },
  {
   "cell_type": "code",
   "execution_count": 14,
   "metadata": {},
   "outputs": [
    {
     "name": "stdout",
     "output_type": "stream",
     "text": [
      "om santi om\n",
      "hum sath sath h \n",
      "5\n",
      "------------------------------\n",
      "om santi om 4.0\n",
      "hum sath sath h  5.0\n",
      "5 7.0\n",
      "------------------------------\n",
      "om santi om 4.0\n",
      "hum sath sath h  5.0\n",
      "5 7.0\n"
     ]
    }
   ],
   "source": [
    "for i in myrating:\n",
    "    print(i) # only keys\n",
    "\n",
    "print('---'* 10)\n",
    "for i in myrating:\n",
    "    print(i, myrating[i]) # only values\n",
    "\n",
    "print('---'* 10)\n",
    "for k,v in myrating.items():\n",
    "    print(k,v) # both keys and values"
   ]
  },
  {
   "cell_type": "code",
   "execution_count": 15,
   "metadata": {},
   "outputs": [
    {
     "name": "stdout",
     "output_type": "stream",
     "text": [
      "{}\n"
     ]
    }
   ],
   "source": [
    "book.clear()\n",
    "print(book)"
   ]
  },
  {
   "cell_type": "code",
   "execution_count": 17,
   "metadata": {},
   "outputs": [],
   "source": [
    "books = {\n",
    "    'book1': {\n",
    "        'title': 'The Final Empire',\n",
    "        'author': 'Brandon Sanderson',\n",
    "        'price' : 1499,\n",
    "    },\n",
    "    'book2': {\n",
    "        'title': 'The Well of Ascension',\n",
    "        'author': 'Brandon Sanderson',\n",
    "        'price' : 1699,\n",
    "        'publisher': 'Tor Books',\n",
    "    },\n",
    "    'book3': {\n",
    "        'title': 'The Hero of Ages',\n",
    "        'author': 'Brandon Sanderson',\n",
    "        'price' : 1799,\n",
    "    } \n",
    "}"
   ]
  },
  {
   "cell_type": "code",
   "execution_count": 18,
   "metadata": {},
   "outputs": [
    {
     "name": "stdout",
     "output_type": "stream",
     "text": [
      "book1\n",
      "\ttitle = The Final Empire\n",
      "\tauthor = Brandon Sanderson\n",
      "\tprice = 1499\n",
      "book2\n",
      "\ttitle = The Well of Ascension\n",
      "\tauthor = Brandon Sanderson\n",
      "\tprice = 1699\n",
      "\tpublisher = Tor Books\n",
      "book3\n",
      "\ttitle = The Hero of Ages\n",
      "\tauthor = Brandon Sanderson\n",
      "\tprice = 1799\n"
     ]
    }
   ],
   "source": [
    "for name, detail in books.items():\n",
    "    print(name)\n",
    "    for k, v in detail.items():\n",
    "        print(f\"\\t{k} = {v}\")"
   ]
  },
  {
   "cell_type": "code",
   "execution_count": 19,
   "metadata": {},
   "outputs": [
    {
     "name": "stdout",
     "output_type": "stream",
     "text": [
      "book2 {'title': 'The Well of Ascension', 'author': 'Brandon Sanderson', 'price': 1699, 'publisher': 'Tor Books'}\n"
     ]
    }
   ],
   "source": [
    "query = \"The Well\"\n",
    "for name, detail in books.items():\n",
    "    if query in detail['title']:\n",
    "        print(name, detail)"
   ]
  },
  {
   "cell_type": "code",
   "execution_count": 61,
   "metadata": {},
   "outputs": [],
   "source": [
    "students = {\n",
    "    'Maulik' : {\n",
    "        'college':'MU',\n",
    "        'type':'offline'\n",
    "    },\n",
    "    'Aman' : 'NPGC',\n",
    "    'Abhay': 'NPGC',\n",
    "    'Mazahir': 'AU',\n",
    "    'Imadul': 'IU',\n",
    "    'Prashutosh': 'SHUATS',\n",
    "    'Shoeb': {\n",
    "        'college': 'IET',\n",
    "        'type':'online'\n",
    "    },\n",
    "    'Mandavi': {\n",
    "         'college':'HNBGU',\n",
    "        'type':'online'\n",
    "    }\n",
    "}"
   ]
  },
  {
   "cell_type": "code",
   "execution_count": 62,
   "metadata": {},
   "outputs": [],
   "source": [
    "from pprint import pp"
   ]
  },
  {
   "cell_type": "code",
   "execution_count": 63,
   "metadata": {},
   "outputs": [
    {
     "name": "stdout",
     "output_type": "stream",
     "text": [
      "{'Maulik': {'college': 'MU', 'type': 'offline'},\n",
      " 'Aman': 'NPGC',\n",
      " 'Abhay': 'NPGC',\n",
      " 'Mazahir': 'AU',\n",
      " 'Imadul': 'IU',\n",
      " 'Prashutosh': 'SHUATS',\n",
      " 'Shoeb': {'college': 'IET', 'type': 'online'},\n",
      " 'Mandavi': {'college': 'HNBGU', 'type': 'online'}}\n"
     ]
    }
   ],
   "source": [
    "pp(students)"
   ]
  },
  {
   "cell_type": "code",
   "execution_count": 3,
   "metadata": {},
   "outputs": [],
   "source": [
    "report = {\n",
    "    'class10': {\n",
    "        'rohan': {\n",
    "            'english': 90,\n",
    "            'maths': 95,\n",
    "            'hindi': 85,\n",
    "            'science': 95,\n",
    "            'social': 95,\n",
    "            'p.e.': 95,\n",
    "        },\n",
    "        'mohit': {\n",
    "            'english': 50,\n",
    "            'maths': 55,\n",
    "            'hindi': 45,\n",
    "            'science': 55,\n",
    "            'social': 55,\n",
    "            'p.e.': 95,\n",
    "        },\n",
    "        'shreya': {\n",
    "            'english': 72,\n",
    "            'maths': 75,\n",
    "            'hindi': 65,\n",
    "            'science': 75,\n",
    "            'social': 75,\n",
    "            'p.e.': 75,\n",
    "        },\n",
    "        'shubham': {\n",
    "            'english': 82,\n",
    "            'maths': 85,\n",
    "            'hindi': 75,\n",
    "            'science': 85,\n",
    "            'social': 85,\n",
    "            'p.e.': 85,\n",
    "        },\n",
    "        'shruti': {\n",
    "            'english': 92,\n",
    "            'maths': 55,\n",
    "            'hindi': 85,\n",
    "            'science': 65,\n",
    "            'social': 95,\n",
    "            'p.e.': 95,\n",
    "        },   \n",
    "        'alex':{\n",
    "            'english': 92,\n",
    "            'maths': 55,\n",
    "            'hindi': 82,\n",
    "            'science': 61,\n",
    "            'social': 95,\n",
    "             'p.e.': 95,\n",
    "        },     \n",
    "    }\n",
    "}"
   ]
  },
  {
   "cell_type": "code",
   "execution_count": 4,
   "metadata": {},
   "outputs": [],
   "source": [
    "from pprint import pp"
   ]
  },
  {
   "cell_type": "code",
   "execution_count": 5,
   "metadata": {},
   "outputs": [
    {
     "name": "stdout",
     "output_type": "stream",
     "text": [
      "{'class10': {'rohan': {'english': 90,\n",
      "                       'maths': 95,\n",
      "                       'hindi': 85,\n",
      "                       'science': 95,\n",
      "                       'social': 95,\n",
      "                       'p.e.': 95},\n",
      "             'mohit': {'english': 50,\n",
      "                       'maths': 55,\n",
      "                       'hindi': 45,\n",
      "                       'science': 55,\n",
      "                       'social': 55,\n",
      "                       'p.e.': 95},\n",
      "             'shreya': {'english': 72,\n",
      "                        'maths': 75,\n",
      "                        'hindi': 65,\n",
      "                        'science': 75,\n",
      "                        'social': 75,\n",
      "                        'p.e.': 75},\n",
      "             'shubham': {'english': 82,\n",
      "                         'maths': 85,\n",
      "                         'hindi': 75,\n",
      "                         'science': 85,\n",
      "                         'social': 85,\n",
      "                         'p.e.': 85},\n",
      "             'shruti': {'english': 92,\n",
      "                        'maths': 55,\n",
      "                        'hindi': 85,\n",
      "                        'science': 65,\n",
      "                        'social': 95,\n",
      "                        'p.e.': 95},\n",
      "             'alex': {'english': 92,\n",
      "                      'maths': 55,\n",
      "                      'hindi': 82,\n",
      "                      'science': 61,\n",
      "                      'social': 95,\n",
      "                      'p.e.': 95}}}\n"
     ]
    }
   ],
   "source": [
    "pp(report)"
   ]
  },
  {
   "cell_type": "code",
   "execution_count": 6,
   "metadata": {},
   "outputs": [
    {
     "data": {
      "text/plain": [
       "dict_values([{'rohan': {'english': 90, 'maths': 95, 'hindi': 85, 'science': 95, 'social': 95, 'p.e.': 95}, 'mohit': {'english': 50, 'maths': 55, 'hindi': 45, 'science': 55, 'social': 55, 'p.e.': 95}, 'shreya': {'english': 72, 'maths': 75, 'hindi': 65, 'science': 75, 'social': 75, 'p.e.': 75}, 'shubham': {'english': 82, 'maths': 85, 'hindi': 75, 'science': 85, 'social': 85, 'p.e.': 85}, 'shruti': {'english': 92, 'maths': 55, 'hindi': 85, 'science': 65, 'social': 95, 'p.e.': 95}, 'alex': {'english': 92, 'maths': 55, 'hindi': 82, 'science': 61, 'social': 95, 'p.e.': 95}}])"
      ]
     },
     "execution_count": 6,
     "metadata": {},
     "output_type": "execute_result"
    }
   ],
   "source": [
    "report.values()"
   ]
  },
  {
   "cell_type": "code",
   "execution_count": 7,
   "metadata": {},
   "outputs": [
    {
     "name": "stdout",
     "output_type": "stream",
     "text": [
      "dict_values([{'english': 90, 'maths': 95, 'hindi': 85, 'science': 95, 'social': 95, 'p.e.': 95}, {'english': 50, 'maths': 55, 'hindi': 45, 'science': 55, 'social': 55, 'p.e.': 95}, {'english': 72, 'maths': 75, 'hindi': 65, 'science': 75, 'social': 75, 'p.e.': 75}, {'english': 82, 'maths': 85, 'hindi': 75, 'science': 85, 'social': 85, 'p.e.': 85}, {'english': 92, 'maths': 55, 'hindi': 85, 'science': 65, 'social': 95, 'p.e.': 95}, {'english': 92, 'maths': 55, 'hindi': 82, 'science': 61, 'social': 95, 'p.e.': 95}])\n"
     ]
    }
   ],
   "source": [
    "print(report['class10'].values())"
   ]
  },
  {
   "cell_type": "code",
   "execution_count": 8,
   "metadata": {},
   "outputs": [],
   "source": [
    "movies = {\n",
    "    '3 idiots' : 'a story about 3 idiot frds',\n",
    "    'lunchbox' : 'a story about a lunchbox',\n",
    "    'dangal' : 'a story about a wrestler',\n",
    "    'pk' : 'a story about an alien',\n",
    "    'taara zameen par' :'a story about a dyslexic child',\n",
    "}"
   ]
  },
  {
   "cell_type": "code",
   "execution_count": 9,
   "metadata": {},
   "outputs": [
    {
     "data": {
      "text/plain": [
       "dict_items([('3 idiots', 'a story about 3 idiot frds'), ('lunchbox', 'a story about a lunchbox'), ('dangal', 'a story about a wrestler'), ('pk', 'a story about an alien'), ('taara zameen par', 'a story about a dyslexic child')])"
      ]
     },
     "execution_count": 9,
     "metadata": {},
     "output_type": "execute_result"
    }
   ],
   "source": [
    "movies.items() # is use dic ke sath loop me karte h"
   ]
  },
  {
   "cell_type": "code",
   "execution_count": 10,
   "metadata": {},
   "outputs": [
    {
     "name": "stdout",
     "output_type": "stream",
     "text": [
      "3 idiots            a story about 3 idiot frds\n",
      "lunchbox            a story about a lunchbox\n",
      "dangal              a story about a wrestler\n",
      "pk                  a story about an alien\n",
      "taara zameen par    a story about a dyslexic child\n"
     ]
    }
   ],
   "source": [
    "for k, v in movies.items():\n",
    "    print(f'{k:20}{v}')"
   ]
  },
  {
   "cell_type": "code",
   "execution_count": 11,
   "metadata": {},
   "outputs": [
    {
     "data": {
      "text/plain": [
       "True"
      ]
     },
     "execution_count": 11,
     "metadata": {},
     "output_type": "execute_result"
    }
   ],
   "source": [
    "isinstance(report['class10'],dict) #verify if the object is a data type"
   ]
  },
  {
   "cell_type": "code",
   "execution_count": 12,
   "metadata": {},
   "outputs": [
    {
     "name": "stdout",
     "output_type": "stream",
     "text": [
      "class10\n",
      "-> rohan\n",
      " -> english = 90\n",
      " -> maths = 95\n",
      " -> hindi = 85\n",
      " -> science = 95\n",
      " -> social = 95\n",
      " -> p.e. = 95\n",
      "-> mohit\n",
      " -> english = 50\n",
      " -> maths = 55\n",
      " -> hindi = 45\n",
      " -> science = 55\n",
      " -> social = 55\n",
      " -> p.e. = 95\n",
      "-> shreya\n",
      " -> english = 72\n",
      " -> maths = 75\n",
      " -> hindi = 65\n",
      " -> science = 75\n",
      " -> social = 75\n",
      " -> p.e. = 75\n",
      "-> shubham\n",
      " -> english = 82\n",
      " -> maths = 85\n",
      " -> hindi = 75\n",
      " -> science = 85\n",
      " -> social = 85\n",
      " -> p.e. = 85\n",
      "-> shruti\n",
      " -> english = 92\n",
      " -> maths = 55\n",
      " -> hindi = 85\n",
      " -> science = 65\n",
      " -> social = 95\n",
      " -> p.e. = 95\n",
      "-> alex\n",
      " -> english = 92\n",
      " -> maths = 55\n",
      " -> hindi = 82\n",
      " -> science = 61\n",
      " -> social = 95\n",
      " -> p.e. = 95\n"
     ]
    }
   ],
   "source": [
    "for cls, students in report.items():\n",
    "    print(cls)\n",
    "    if isinstance (students, dict):\n",
    "        for name,subjects in students.items():\n",
    "            print('->', name)\n",
    "            if isinstance(subjects, dict):\n",
    "                for subject, marks in subjects.items():\n",
    "                    print(' ->', subject,'=', marks)"
   ]
  },
  {
   "cell_type": "code",
   "execution_count": 74,
   "metadata": {},
   "outputs": [
    {
     "name": "stdout",
     "output_type": "stream",
     "text": [
      "class10\n",
      "-> rohan\n",
      "total-> 90\n",
      "total-> 185\n",
      "total-> 270\n",
      "total-> 365\n",
      "total-> 460\n",
      "total-> 555\n",
      "-> mohit\n",
      "total-> 50\n",
      "total-> 105\n",
      "total-> 150\n",
      "total-> 205\n",
      "total-> 260\n",
      "total-> 355\n",
      "-> shreya\n",
      "total-> 72\n",
      "total-> 147\n",
      "total-> 212\n",
      "total-> 287\n",
      "total-> 362\n",
      "total-> 437\n",
      "-> shubham\n",
      "total-> 82\n",
      "total-> 167\n",
      "total-> 242\n",
      "total-> 327\n",
      "total-> 412\n",
      "total-> 497\n",
      "-> shruti\n",
      "total-> 92\n",
      "total-> 147\n",
      "total-> 232\n",
      "total-> 297\n",
      "total-> 392\n",
      "total-> 487\n",
      "-> alex\n",
      "total-> 92\n",
      "total-> 147\n",
      "total-> 229\n",
      "total-> 290\n",
      "total-> 385\n",
      "total-> 480\n"
     ]
    }
   ],
   "source": [
    "for cls, students in report.items():\n",
    "    print(cls)\n",
    "    if isinstance (students, dict):\n",
    "        for name,subjects in students.items():\n",
    "            print('->', name)\n",
    "            if isinstance(subjects, dict):\n",
    "                total = 0 # reset total for each student\n",
    "                for subject, marks in subjects.items():\n",
    "                    total += marks\n",
    "                    print('total->',total)"
   ]
  },
  {
   "cell_type": "code",
   "execution_count": 75,
   "metadata": {},
   "outputs": [
    {
     "name": "stdout",
     "output_type": "stream",
     "text": [
      "class10\n",
      "-> rohan\n",
      "avg-> 15\n",
      "avg-> 30\n",
      "avg-> 45\n",
      "avg-> 60\n",
      "avg-> 76\n",
      "avg-> 92\n",
      "-> mohit\n",
      "avg-> 8\n",
      "avg-> 17\n",
      "avg-> 25\n",
      "avg-> 34\n",
      "avg-> 43\n",
      "avg-> 59\n",
      "-> shreya\n",
      "avg-> 12\n",
      "avg-> 24\n",
      "avg-> 35\n",
      "avg-> 47\n",
      "avg-> 60\n",
      "avg-> 72\n",
      "-> shubham\n",
      "avg-> 13\n",
      "avg-> 27\n",
      "avg-> 40\n",
      "avg-> 54\n",
      "avg-> 68\n",
      "avg-> 82\n",
      "-> shruti\n",
      "avg-> 15\n",
      "avg-> 24\n",
      "avg-> 38\n",
      "avg-> 49\n",
      "avg-> 65\n",
      "avg-> 81\n",
      "-> alex\n",
      "avg-> 15\n",
      "avg-> 24\n",
      "avg-> 38\n",
      "avg-> 48\n",
      "avg-> 64\n",
      "avg-> 80\n"
     ]
    }
   ],
   "source": [
    "for cls, students in report.items():\n",
    "    print(cls)\n",
    "    if isinstance (students, dict):\n",
    "        for name,subjects in students.items():\n",
    "            print('->', name)\n",
    "            if isinstance(subjects, dict):\n",
    "                total = 0 # reset total for each student\n",
    "                for subject, marks in subjects.items():\n",
    "                    total += marks\n",
    "                    print('avg->',total//6)"
   ]
  },
  {
   "cell_type": "code",
   "execution_count": 52,
   "metadata": {},
   "outputs": [
    {
     "name": "stdout",
     "output_type": "stream",
     "text": [
      "class10\n",
      "-> rohan\n",
      "avg-> 92\n",
      "-> mohit\n",
      "avg-> 59\n",
      "-> shreya\n",
      "avg-> 72\n",
      "-> shubham\n",
      "avg-> 82\n",
      "-> shruti\n",
      "avg-> 81\n",
      "-> alex\n",
      "avg-> 80\n"
     ]
    }
   ],
   "source": [
    "for cls, students in report.items():\n",
    "    print(cls)\n",
    "    if isinstance (students, dict):\n",
    "        for name,subjects in students.items():\n",
    "            print('->', name)\n",
    "            if isinstance(subjects, dict):\n",
    "                total = sum (subjects.values())\n",
    "                print('avg->', total//6)"
   ]
  },
  {
   "cell_type": "code",
   "execution_count": 59,
   "metadata": {},
   "outputs": [
    {
     "name": "stdout",
     "output_type": "stream",
     "text": [
      "class10\n",
      "-> rohan\n",
      " max-> maths 95\n",
      "-> mohit\n",
      " max-> p.e. 95\n",
      "-> shreya\n",
      " max-> maths 75\n",
      "-> shubham\n",
      " max-> maths 85\n",
      "-> shruti\n",
      " max-> social 95\n",
      "-> alex\n",
      " max-> social 95\n"
     ]
    }
   ],
   "source": [
    "for cls, students in report.items():\n",
    "    print(cls)\n",
    "    if isinstance (students, dict):\n",
    "        for name,subjects in students.items():\n",
    "            print('->', name)\n",
    "            if isinstance(subjects, dict):\n",
    "                mm = None\n",
    "                sub = None\n",
    "            for subject, marks in subjects. items():\n",
    "                if mm is None or mm < marks:\n",
    "                    mm = marks\n",
    "                    sub = subject    \n",
    "            print(' max->',sub,mm)        \n"
   ]
  },
  {
   "cell_type": "markdown",
   "metadata": {},
   "source": [
    "wap to create a dictionary that store numbers and their squares"
   ]
  },
  {
   "cell_type": "code",
   "execution_count": 1,
   "metadata": {},
   "outputs": [
    {
     "name": "stdout",
     "output_type": "stream",
     "text": [
      "{1: 1, 2: 4, 3: 9, 4: 16, 5: 25, 6: 36, 7: 49, 8: 64, 9: 81, 10: 100}\n"
     ]
    }
   ],
   "source": [
    "n=int(input(\"Enter a number:\"))\n",
    "d={x:x*x for x in range(1,n+1)}\n",
    "print(d)"
   ]
  },
  {
   "cell_type": "markdown",
   "metadata": {},
   "source": [
    "wap to ask user to enter item and its price and then store it in a dictionay, the program should stop when the user wants hint - while loop"
   ]
  },
  {
   "cell_type": "code",
   "execution_count": 22,
   "metadata": {},
   "outputs": [
    {
     "name": "stdout",
     "output_type": "stream",
     "text": [
      "{'book': 7, 'apple': 9}\n"
     ]
    }
   ],
   "source": [
    "items = {}\n",
    "while True:\n",
    "    item = input('enter name:')\n",
    "    if not item: break\n",
    "    price = int(input('enter price:'))\n",
    "    items[item] = price\n",
    "print(items)"
   ]
  }
 ],
 "metadata": {
  "kernelspec": {
   "display_name": "base",
   "language": "python",
   "name": "python3"
  },
  "language_info": {
   "codemirror_mode": {
    "name": "ipython",
    "version": 3
   },
   "file_extension": ".py",
   "mimetype": "text/x-python",
   "name": "python",
   "nbconvert_exporter": "python",
   "pygments_lexer": "ipython3",
   "version": "3.10.10"
  },
  "orig_nbformat": 4
 },
 "nbformat": 4,
 "nbformat_minor": 2
}
