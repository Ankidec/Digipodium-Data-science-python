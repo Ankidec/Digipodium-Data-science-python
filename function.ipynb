{
 "cells": [
  {
   "cell_type": "markdown",
   "metadata": {},
   "source": [
    "### FUNCTIONS"
   ]
  },
  {
   "cell_type": "markdown",
   "metadata": {},
   "source": [
    "### syntax\n",
    "   '''\n",
    "    def fun_name([parameter]):\n",
    "       statement 1\n",
    "       statement 2\n",
    "        ...\n",
    "       statement n\n",
    "       [return expression]\n",
    "   '''\n",
    "- example-\n",
    "    def area(width, height):\n",
    "       a = width * height\n",
    "       return a    "
   ]
  },
  {
   "cell_type": "markdown",
   "metadata": {},
   "source": [
    "functions\n",
    "- based on parameter and return value\n",
    "  - no parameter, no return value\n",
    "  - no parameter, return value\n",
    "  - parameter, no return value\n",
    "  - parameter, return value "
   ]
  },
  {
   "cell_type": "markdown",
   "metadata": {},
   "source": [
    "- based on parameter type\n",
    "  - required parameter\n",
    "  - keyword parameter\n",
    "  - default parameter\n",
    "  - variable length arguments (*args)\n",
    "  - variable keyword arguments (**kwargs)\n"
   ]
  },
  {
   "cell_type": "markdown",
   "metadata": {},
   "source": [
    "- other types of function\n",
    "  - lambda function\n",
    "  - generator function\n",
    "  - recursive function\n",
    "  >- note - Parameter and argument same hota h "
   ]
  },
  {
   "cell_type": "code",
   "execution_count": null,
   "metadata": {},
   "outputs": [],
   "source": []
  },
  {
   "cell_type": "code",
   "execution_count": 1,
   "metadata": {},
   "outputs": [],
   "source": [
    "#creating a func\n",
    "def adder (a,b,c):\n",
    "    ans = a + b + c\n",
    "    return ans "
   ]
  },
  {
   "cell_type": "code",
   "execution_count": 2,
   "metadata": {},
   "outputs": [
    {
     "data": {
      "text/plain": [
       "66"
      ]
     },
     "execution_count": 2,
     "metadata": {},
     "output_type": "execute_result"
    }
   ],
   "source": [
    "#calling a func\n",
    "adder (12,21,33)"
   ]
  },
  {
   "cell_type": "code",
   "execution_count": 1,
   "metadata": {},
   "outputs": [],
   "source": [
    "#  value returing function\n",
    "def area():\n",
    "    l = int(input(\"Enter l = \"))\n",
    "    b = int(input(\"Enter b = \"))\n",
    "    return l*b"
   ]
  },
  {
   "cell_type": "code",
   "execution_count": 2,
   "metadata": {},
   "outputs": [
    {
     "name": "stdout",
     "output_type": "stream",
     "text": [
      "area is 600\n"
     ]
    }
   ],
   "source": [
    "ans = area()\n",
    "print(f'area is {ans}')"
   ]
  },
  {
   "cell_type": "code",
   "execution_count": 3,
   "metadata": {},
   "outputs": [],
   "source": [
    "def math():\n",
    "    p = int(input(\"Enter the Principle: \"))\n",
    "    r = int(input(\"Enter the Rate: \"))\n",
    "    t = int(input(\"Enter the Time: \"))\n",
    "    si = p*r*t/100\n",
    "    amt = p + si\n",
    "    return si, amt"
   ]
  },
  {
   "cell_type": "code",
   "execution_count": 4,
   "metadata": {},
   "outputs": [
    {
     "name": "stdout",
     "output_type": "stream",
     "text": [
      "si 40.0\n",
      "amt 1040.0\n"
     ]
    }
   ],
   "source": [
    "result = math()\n",
    "print('si',result[0])\n",
    "print('amt',result[1])"
   ]
  },
  {
   "cell_type": "code",
   "execution_count": 5,
   "metadata": {},
   "outputs": [
    {
     "name": "stdout",
     "output_type": "stream",
     "text": [
      "80.0 1080.0\n"
     ]
    }
   ],
   "source": [
    "si, amount = math()\n",
    "print(si, amount)"
   ]
  },
  {
   "cell_type": "code",
   "execution_count": 6,
   "metadata": {},
   "outputs": [],
   "source": [
    "def is_armstrong(number):\n",
    "    t = number\n",
    "    s = 0 # sum\n",
    "    pow = len(str(number))\n",
    "    while number > 0:\n",
    "        r = number % 10\n",
    "        s += r ** pow\n",
    "        number //= 10\n",
    "    return t == s"
   ]
  },
  {
   "cell_type": "code",
   "execution_count": 7,
   "metadata": {},
   "outputs": [
    {
     "name": "stdout",
     "output_type": "stream",
     "text": [
      "True\n"
     ]
    }
   ],
   "source": [
    "x = int(input('enter a number'))\n",
    "print(is_armstrong(x))"
   ]
  },
  {
   "cell_type": "code",
   "execution_count": 8,
   "metadata": {},
   "outputs": [
    {
     "name": "stdout",
     "output_type": "stream",
     "text": [
      "153\n",
      "370\n",
      "371\n",
      "407\n",
      "1634\n",
      "8208\n",
      "9474\n",
      "54748\n",
      "92727\n",
      "93084\n",
      "548834\n"
     ]
    }
   ],
   "source": [
    "for i in range(100,999999):\n",
    "    if is_armstrong(i):\n",
    "        print(i)"
   ]
  },
  {
   "cell_type": "code",
   "execution_count": 9,
   "metadata": {},
   "outputs": [],
   "source": [
    "def adder(a,b,c):\n",
    "    return a + b + c"
   ]
  },
  {
   "cell_type": "code",
   "execution_count": 10,
   "metadata": {},
   "outputs": [
    {
     "name": "stdout",
     "output_type": "stream",
     "text": [
      "12\n"
     ]
    }
   ],
   "source": [
    "print(adder(5, 2, 5))"
   ]
  },
  {
   "cell_type": "code",
   "execution_count": 11,
   "metadata": {},
   "outputs": [
    {
     "name": "stdout",
     "output_type": "stream",
     "text": [
      "11\n",
      "40\n",
      "50\n",
      "60\n"
     ]
    }
   ],
   "source": [
    "print(adder(a=4, b=2, c=5)) # keyword arguments\n",
    "print(adder(b=10, c=20, a=10)) # allows for any order\n",
    "print(adder(10, c=20, b=20))\n",
    "print(adder(10, 20, c=30))"
   ]
  },
  {
   "cell_type": "code",
   "execution_count": 12,
   "metadata": {},
   "outputs": [
    {
     "name": "stdout",
     "output_type": "stream",
     "text": [
      "1 2 3 4\n"
     ]
    }
   ],
   "source": [
    "print(1,2,3,4)"
   ]
  },
  {
   "cell_type": "code",
   "execution_count": 13,
   "metadata": {},
   "outputs": [],
   "source": [
    "def multiplier(a, b, c=1):\n",
    "    return a * b * c"
   ]
  },
  {
   "cell_type": "code",
   "execution_count": 14,
   "metadata": {},
   "outputs": [
    {
     "name": "stdout",
     "output_type": "stream",
     "text": [
      "6\n",
      "60\n",
      "30\n"
     ]
    }
   ],
   "source": [
    "print(multiplier(2, 3))\n",
    "print(multiplier(2, 3, 10))\n",
    "print(multiplier(2, 3, c=5))"
   ]
  },
  {
   "cell_type": "code",
   "execution_count": 15,
   "metadata": {},
   "outputs": [],
   "source": [
    "from string import punctuation\n",
    "def cleaner(data, chars=None):\n",
    "    if chars is None:\n",
    "        chars = punctuation\n",
    "    for c in chars:\n",
    "        data = data.replace(c, '')\n",
    "    return data"
   ]
  },
  {
   "cell_type": "code",
   "execution_count": 16,
   "metadata": {},
   "outputs": [
    {
     "name": "stdout",
     "output_type": "stream",
     "text": [
      "!\"#$%&'()*+,-./:;<=>?@[\\]^_`{|}~\n"
     ]
    }
   ],
   "source": [
    "print(punctuation)"
   ]
  },
  {
   "cell_type": "code",
   "execution_count": 17,
   "metadata": {},
   "outputs": [
    {
     "data": {
      "text/plain": [
       "'h((el)()lo'"
      ]
     },
     "execution_count": 17,
     "metadata": {},
     "output_type": "execute_result"
    }
   ],
   "source": [
    "cleaner('h@!#*(!@*#(el!@#)(!@)#lo{}#{@}!', chars='!@#*{}[]')"
   ]
  },
  {
   "cell_type": "code",
   "execution_count": 18,
   "metadata": {},
   "outputs": [],
   "source": [
    "def multiplier(*nums):\n",
    "    result = 1\n",
    "    for num in nums:\n",
    "        result *= num\n",
    "    return result"
   ]
  },
  {
   "cell_type": "code",
   "execution_count": 19,
   "metadata": {},
   "outputs": [
    {
     "name": "stdout",
     "output_type": "stream",
     "text": [
      "1\n",
      "2\n",
      "126360\n",
      "362880\n"
     ]
    }
   ],
   "source": [
    "print(multiplier())\n",
    "print(multiplier(2))\n",
    "print(multiplier(2,3,5,6,78,9))\n",
    "print(multiplier(2,3,5,6,7,1,2,2,3,3,1,1,2,2,2,1,1))"
   ]
  },
  {
   "cell_type": "code",
   "execution_count": 20,
   "metadata": {},
   "outputs": [],
   "source": [
    "def aggregator(*x, action='sum'):\n",
    "    if action == 'sum':\n",
    "        return sum(x)\n",
    "    elif action == 'count':\n",
    "        return len(x)\n",
    "    elif action == 'mean':\n",
    "        return sum(x) / len(x)\n",
    "    else:\n",
    "        raise ValueError('Invalid action')"
   ]
  },
  {
   "cell_type": "code",
   "execution_count": 21,
   "metadata": {},
   "outputs": [
    {
     "data": {
      "text/plain": [
       "2.0"
      ]
     },
     "execution_count": 21,
     "metadata": {},
     "output_type": "execute_result"
    }
   ],
   "source": [
    "aggregator(1,2,3,3,1,1,2,2,3, action='mean')"
   ]
  },
  {
   "cell_type": "code",
   "execution_count": 1,
   "metadata": {},
   "outputs": [],
   "source": [
    "def sorter(*data, type='number'):\n",
    "    if type=='number':\n",
    "        clean_data = []\n",
    "        for i in data:\n",
    "            if isinstance(i, int) or isinstance(i, float):\n",
    "                clean_data.append(i)\n",
    "        clean_data.sort()\n",
    "        return clean_data\n",
    "    else:\n",
    "        return None"
   ]
  },
  {
   "cell_type": "code",
   "execution_count": 2,
   "metadata": {},
   "outputs": [
    {
     "data": {
      "text/plain": [
       "[6, 7, 11, 12]"
      ]
     },
     "execution_count": 2,
     "metadata": {},
     "output_type": "execute_result"
    }
   ],
   "source": [
    "sorter(11,6,7,12)"
   ]
  },
  {
   "cell_type": "code",
   "execution_count": 3,
   "metadata": {},
   "outputs": [
    {
     "data": {
      "text/plain": [
       "[2, 5, 6, 7, 12, 45]"
      ]
     },
     "execution_count": 3,
     "metadata": {},
     "output_type": "execute_result"
    }
   ],
   "source": [
    "sorter(12,45,'a','b',2,5,6,7)"
   ]
  },
  {
   "cell_type": "code",
   "execution_count": 4,
   "metadata": {},
   "outputs": [],
   "source": [
    "def display_data(**data):\n",
    "    print(\"Your data:\")\n",
    "    total = 0\n",
    "    for k, v in data.items():\n",
    "        print(f\"{k:10}{v}\")\n",
    "        total += v\n",
    "    print('-'*20)\n",
    "    print(f\"Total: Rs.{total}\")\n",
    "    print('-'*20)"
   ]
  },
  {
   "cell_type": "code",
   "execution_count": 5,
   "metadata": {},
   "outputs": [
    {
     "name": "stdout",
     "output_type": "stream",
     "text": [
      "Your data:\n",
      "dahi      50\n",
      "medicine  1200\n",
      "tshirt    250\n",
      "fruits    100\n",
      "--------------------\n",
      "Total: Rs.1600\n",
      "--------------------\n"
     ]
    }
   ],
   "source": [
    "display_data(dahi=50, medicine=1200, tshirt=250, fruits=100)"
   ]
  },
  {
   "cell_type": "markdown",
   "metadata": {},
   "source": [
    "f(x)= x**2 + x*10 + x\n",
    "\n",
    "f(2)"
   ]
  },
  {
   "cell_type": "code",
   "execution_count": 6,
   "metadata": {},
   "outputs": [
    {
     "name": "stdout",
     "output_type": "stream",
     "text": [
      "210\n",
      "60\n",
      "26\n"
     ]
    }
   ],
   "source": [
    "f = lambda x: x**2 + x*10 + x\n",
    "print(f(10))\n",
    "print(f(4))\n",
    "print(f(2))"
   ]
  },
  {
   "cell_type": "code",
   "execution_count": 7,
   "metadata": {},
   "outputs": [
    {
     "name": "stdout",
     "output_type": "stream",
     "text": [
      "18\n",
      "708\n",
      "156\n"
     ]
    }
   ],
   "source": [
    "g = lambda x,y : x**3 + y**4 + x*y - 1 \n",
    "print(g(1,2))\n",
    "print(g(4,5))\n",
    "print(g(4,3))"
   ]
  },
  {
   "cell_type": "code",
   "execution_count": 8,
   "metadata": {},
   "outputs": [],
   "source": [
    "hyp = lambda p,b : (p**2 + b**2)**.5 "
   ]
  },
  {
   "cell_type": "code",
   "execution_count": 9,
   "metadata": {},
   "outputs": [
    {
     "data": {
      "text/plain": [
       "19.1049731745428"
      ]
     },
     "execution_count": 9,
     "metadata": {},
     "output_type": "execute_result"
    }
   ],
   "source": [
    "hyp(13,14)"
   ]
  },
  {
   "cell_type": "markdown",
   "metadata": {},
   "source": [
    "MAP : list of data -> operation -> new list of data\n",
    "\n",
    "FILTER : list of data -> condition -> new list of data"
   ]
  },
  {
   "cell_type": "code",
   "execution_count": 10,
   "metadata": {},
   "outputs": [
    {
     "name": "stdout",
     "output_type": "stream",
     "text": [
      "[8, 27, 1728, 29791, 27, 1728, 29791, 12167]\n"
     ]
    }
   ],
   "source": [
    "x = [2,3,12,31,3,12,31,23]\n",
    "x3 = list(map(lambda i: i**3, x))\n",
    "print(x3)"
   ]
  },
  {
   "cell_type": "code",
   "execution_count": 11,
   "metadata": {},
   "outputs": [
    {
     "name": "stdout",
     "output_type": "stream",
     "text": [
      "[2, 6, 12, 30, 15, 25]\n"
     ]
    }
   ],
   "source": [
    "x = [1,2,3,5,5,5]\n",
    "y = [2,3,4,6,3,5]\n",
    "xy = list(map(lambda i,j: i*j, x,y))\n",
    "print(xy)"
   ]
  },
  {
   "cell_type": "code",
   "execution_count": 12,
   "metadata": {},
   "outputs": [
    {
     "name": "stdout",
     "output_type": "stream",
     "text": [
      "[1, 3, 1, 3, 3, 3, 1, 3]\n"
     ]
    }
   ],
   "source": [
    "a = [1,2,3,4,1,3,2,2,3,3,1,2,3,4]\n",
    "b = list(filter(lambda i: i%2==1, a))\n",
    "print(b)"
   ]
  },
  {
   "cell_type": "code",
   "execution_count": 13,
   "metadata": {},
   "outputs": [],
   "source": [
    "from random import randint"
   ]
  },
  {
   "cell_type": "code",
   "execution_count": 14,
   "metadata": {},
   "outputs": [],
   "source": [
    "def random_range(s,e,size=10):\n",
    "    for i in range(size):\n",
    "        yield randint(s,e)"
   ]
  },
  {
   "cell_type": "code",
   "execution_count": 20,
   "metadata": {},
   "outputs": [
    {
     "name": "stdout",
     "output_type": "stream",
     "text": [
      "5 86 70 18 66 8 91 37 43 99 12 46 29 51 16 "
     ]
    }
   ],
   "source": [
    "for i in random_range(1,100, 15):\n",
    "    print(i, end=' ')"
   ]
  },
  {
   "attachments": {},
   "cell_type": "markdown",
   "metadata": {},
   "source": [
    "types of function on the basis of parameters\n",
    "*required arguments\n",
    "*named arguments\n",
    "*default arguments\n",
    "*variable arguments\n",
    "*keyword arguments"
   ]
  },
  {
   "cell_type": "code",
   "execution_count": 7,
   "metadata": {},
   "outputs": [],
   "source": [
    "def hyp(p,b):\n",
    "    h = (p**2 + b**2)**0.5\n",
    "    return h"
   ]
  },
  {
   "cell_type": "code",
   "execution_count": 8,
   "metadata": {},
   "outputs": [
    {
     "data": {
      "text/plain": [
       "10.770329614269007"
      ]
     },
     "execution_count": 8,
     "metadata": {},
     "output_type": "execute_result"
    }
   ],
   "source": [
    "hyp(10,4)"
   ]
  },
  {
   "cell_type": "code",
   "execution_count": 9,
   "metadata": {},
   "outputs": [
    {
     "data": {
      "text/plain": [
       "22.360679774997898"
      ]
     },
     "execution_count": 9,
     "metadata": {},
     "output_type": "execute_result"
    }
   ],
   "source": [
    "hyp(p=20, b=10) # named argument"
   ]
  },
  {
   "cell_type": "code",
   "execution_count": 11,
   "metadata": {},
   "outputs": [],
   "source": [
    "def multiplier (a,b,c,d):\n",
    "    return a*b*c*d"
   ]
  },
  {
   "cell_type": "code",
   "execution_count": 12,
   "metadata": {},
   "outputs": [
    {
     "data": {
      "text/plain": [
       "60000"
      ]
     },
     "execution_count": 12,
     "metadata": {},
     "output_type": "execute_result"
    }
   ],
   "source": [
    "multiplier(10,20, d=30,c=10)"
   ]
  },
  {
   "cell_type": "code",
   "execution_count": 13,
   "metadata": {},
   "outputs": [],
   "source": [
    "def multiplier (a,b, c=1,d=1):# defult arguments\n",
    "    return a*b*c*d"
   ]
  },
  {
   "cell_type": "code",
   "execution_count": 15,
   "metadata": {},
   "outputs": [
    {
     "name": "stdout",
     "output_type": "stream",
     "text": [
      "200\n"
     ]
    }
   ],
   "source": [
    "print(multiplier(10,20))"
   ]
  },
  {
   "cell_type": "code",
   "execution_count": 19,
   "metadata": {},
   "outputs": [
    {
     "name": "stdout",
     "output_type": "stream",
     "text": [
      "6000\n",
      "240000\n",
      "240000\n",
      "240000\n"
     ]
    }
   ],
   "source": [
    "print(multiplier(10,20,30))\n",
    "print(multiplier(10,20, 30,40))\n",
    "print(multiplier(10,20, d=30, c=40))\n",
    "print(multiplier(10,20, c=30, d=40))"
   ]
  },
  {
   "cell_type": "code",
   "execution_count": 25,
   "metadata": {},
   "outputs": [],
   "source": [
    "def multiplierv3(*data): #variable argument\n",
    "    result = 1\n",
    "    for i in data:\n",
    "        result = result * i\n",
    "    return result\n"
   ]
  },
  {
   "cell_type": "code",
   "execution_count": 24,
   "metadata": {},
   "outputs": [
    {
     "name": "stdout",
     "output_type": "stream",
     "text": [
      "1\n",
      "24\n",
      "3628800\n",
      "1024\n"
     ]
    }
   ],
   "source": [
    "print(multiplierv3())\n",
    "print(multiplierv3(2,3,4))\n",
    "print(multiplierv3(2,3,4,5,6,7,8,9,10))\n",
    "print(multiplierv3(2,2,2,2,2,2,2,2,2,2,))"
   ]
  },
  {
   "cell_type": "code",
   "execution_count": 29,
   "metadata": {},
   "outputs": [],
   "source": [
    "def names(**items):#keyword arguments\n",
    "    for key, value in items.items():\n",
    "        print(key,value)"
   ]
  },
  {
   "cell_type": "code",
   "execution_count": 28,
   "metadata": {},
   "outputs": [
    {
     "name": "stdout",
     "output_type": "stream",
     "text": [
      "name1 john\n",
      "name2 janu\n",
      "name3 jack\n"
     ]
    }
   ],
   "source": [
    "names(name1='john',name2='janu',name3='jack')"
   ]
  },
  {
   "cell_type": "code",
   "execution_count": 31,
   "metadata": {},
   "outputs": [],
   "source": [
    "# generator function\n",
    "def generate (start, stop):\n",
    "    for i in range (start, stop):\n",
    "        yield i"
   ]
  },
  {
   "cell_type": "code",
   "execution_count": 33,
   "metadata": {},
   "outputs": [
    {
     "data": {
      "text/plain": [
       "[1, 2, 3, 4, 5, 6, 7, 8, 9, 10]"
      ]
     },
     "execution_count": 33,
     "metadata": {},
     "output_type": "execute_result"
    }
   ],
   "source": [
    "list (generate(1,11))"
   ]
  },
  {
   "cell_type": "code",
   "execution_count": 35,
   "metadata": {},
   "outputs": [],
   "source": [
    "def otp_generator():#is hum memory ko save kar skte h yeh run time me fast hota\n",
    "    import random \n",
    "    for i in range(6):\n",
    "        yield str(random.randint(0,9))"
   ]
  },
  {
   "cell_type": "code",
   "execution_count": 38,
   "metadata": {},
   "outputs": [
    {
     "data": {
      "text/plain": [
       "'583806'"
      ]
     },
     "execution_count": 38,
     "metadata": {},
     "output_type": "execute_result"
    }
   ],
   "source": [
    "\"\". join(list(otp_generator()))"
   ]
  },
  {
   "cell_type": "code",
   "execution_count": 42,
   "metadata": {},
   "outputs": [],
   "source": [
    "f = lambda x: x**2 + 10* x +20"
   ]
  },
  {
   "cell_type": "code",
   "execution_count": 44,
   "metadata": {},
   "outputs": [
    {
     "data": {
      "text/plain": [
       "264"
      ]
     },
     "execution_count": 44,
     "metadata": {},
     "output_type": "execute_result"
    }
   ],
   "source": [
    "f(10) + f(2)"
   ]
  },
  {
   "cell_type": "code",
   "execution_count": 48,
   "metadata": {},
   "outputs": [],
   "source": [
    "g = lambda x,y: x**2 + y**2 +10*x*y"
   ]
  },
  {
   "cell_type": "code",
   "execution_count": 49,
   "metadata": {},
   "outputs": [
    {
     "data": {
      "text/plain": [
       "4920"
      ]
     },
     "execution_count": 49,
     "metadata": {},
     "output_type": "execute_result"
    }
   ],
   "source": [
    "g(31,12) + f(5)"
   ]
  },
  {
   "cell_type": "code",
   "execution_count": 51,
   "metadata": {},
   "outputs": [],
   "source": [
    "s1= lambda x,y: x**2 + y**2 + 10*x*y"
   ]
  },
  {
   "cell_type": "code",
   "execution_count": 52,
   "metadata": {},
   "outputs": [
    {
     "data": {
      "text/plain": [
       "4920"
      ]
     },
     "execution_count": 52,
     "metadata": {},
     "output_type": "execute_result"
    }
   ],
   "source": [
    "g(31,12) + f(5)"
   ]
  },
  {
   "cell_type": "code",
   "execution_count": 54,
   "metadata": {},
   "outputs": [],
   "source": [
    "s1=lambda p,r, t: p*r*1/100"
   ]
  },
  {
   "cell_type": "code",
   "execution_count": null,
   "metadata": {},
   "outputs": [],
   "source": [
    "s1=(12,34,23)"
   ]
  }
 ],
 "metadata": {
  "kernelspec": {
   "display_name": "base",
   "language": "python",
   "name": "python3"
  },
  "language_info": {
   "codemirror_mode": {
    "name": "ipython",
    "version": 3
   },
   "file_extension": ".py",
   "mimetype": "text/x-python",
   "name": "python",
   "nbconvert_exporter": "python",
   "pygments_lexer": "ipython3",
   "version": "3.10.10"
  },
  "orig_nbformat": 4
 },
 "nbformat": 4,
 "nbformat_minor": 2
}
