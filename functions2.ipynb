{
 "cells": [
  {
   "cell_type": "markdown",
   "metadata": {},
   "source": [
    "**Functions**\n",
    ". Reuse of the code\n",
    ". make the code more readable\n",
    ". break the complex code into smaller codes\n",
    ". customization\n",
    "**programming functions**  \n",
    " 1-predefined functions\n",
    "   . standard library functions\n",
    "     .the functions that are imported by default when executing python code\n",
    "library(modules) functions\n"
   ]
  },
  {
   "cell_type": "code",
   "execution_count": 14,
   "metadata": {},
   "outputs": [],
   "source": [
    "# simple interest\n",
    "def si(p,r,t):\n",
    "    '''A functions to calculate simple interest'''\n",
    "    ans = p * r * t / 100\n",
    "    print(f'Simple Interest is {ans:.2f}')"
   ]
  },
  {
   "cell_type": "code",
   "execution_count": 16,
   "metadata": {},
   "outputs": [
    {
     "name": "stdout",
     "output_type": "stream",
     "text": [
      "Simple Interest is 100.00\n"
     ]
    }
   ],
   "source": [
    "si (1000,5,2)"
   ]
  },
  {
   "cell_type": "code",
   "execution_count": 1,
   "metadata": {},
   "outputs": [
    {
     "name": "stdout",
     "output_type": "stream",
     "text": [
      "8 is not a prime number\n"
     ]
    }
   ],
   "source": [
    "#prime number\n",
    "def prime_number(n):\n",
    "    i = 2\n",
    "    count = 0\n",
    "    while i <= n/2:\n",
    "        if n%i == 0:\n",
    "            count += 1\n",
    "            break\n",
    "        i += 1\n",
    "    if (count == 0):\n",
    "        print(f'{n} is a prime number')\n",
    "    else: \n",
    "        print(f'{n} is not a prime number')\n",
    "\n",
    "prime_number(8)"
   ]
  },
  {
   "cell_type": "code",
   "execution_count": 1,
   "metadata": {},
   "outputs": [
    {
     "name": "stdout",
     "output_type": "stream",
     "text": [
      "1-2-3\n"
     ]
    }
   ],
   "source": [
    "print(1,2,3,sep='-')"
   ]
  },
  {
   "cell_type": "code",
   "execution_count": 5,
   "metadata": {},
   "outputs": [],
   "source": [
    "def hypotenuse(p=1, b=1):\n",
    "    h = (p**2 + b**2) **0.5\n",
    "    print(h)"
   ]
  },
  {
   "cell_type": "code",
   "execution_count": 8,
   "metadata": {},
   "outputs": [
    {
     "name": "stdout",
     "output_type": "stream",
     "text": [
      "1.4142135623730951\n",
      "5.0990195135927845\n",
      "13.0\n",
      "11.180339887498949\n",
      "17.69180601295413\n",
      "13.0\n",
      "9.219544457292887\n",
      "9.219544457292887\n",
      "9.219544457292887\n",
      "9.219544457292887\n"
     ]
    }
   ],
   "source": [
    "hypotenuse()\n",
    "hypotenuse(5)\n",
    "hypotenuse(12,5)\n",
    "hypotenuse(p=10, b=5) #named arguments\n",
    "hypotenuse(b=13,p=12)\n",
    "hypotenuse(12, b=5) # positional argument\n",
    "\n",
    "x = int (input('Perp'))\n",
    "y = int(input('Base'))\n",
    "hypotenuse(x,y)\n",
    "hypotenuse(p=x, b=y)\n",
    "hypotenuse(x, b=y)\n",
    "hypotenuse(b=y, p=x)"
   ]
  },
  {
   "cell_type": "code",
   "execution_count": 2,
   "metadata": {},
   "outputs": [
    {
     "name": "stdout",
     "output_type": "stream",
     "text": [
      "1\n",
      "2\n",
      "24\n",
      "40320\n"
     ]
    }
   ],
   "source": [
    "#variable arguments used in libraries and projects\n",
    "\n",
    "def multiplier(*num):\n",
    "    ans = 1\n",
    "    for i in num:\n",
    "        ans *= i\n",
    "    print(ans)\n",
    "multiplier()\n",
    "multiplier(2)\n",
    "multiplier(2,3,4)\n",
    "multiplier(2,3,4,5,6,7,8)"
   ]
  },
  {
   "cell_type": "code",
   "execution_count": 3,
   "metadata": {},
   "outputs": [],
   "source": [
    "def agg(*num, operator=\"add\"):\n",
    "     if operator == 'add':\n",
    "          ans = 0\n",
    "          for i in num:\n",
    "               ans +=i\n",
    "          print(ans)\n",
    "     elif operator == 'mul':\n",
    "          ans = 1\n",
    "          for i in num:\n",
    "               ans *=i\n",
    "          print(ans)\n",
    "     elif operator == 'mean':\n",
    "          ans = 0\n",
    "          for i in num:\n",
    "            ans += i\n",
    "          print(ans/len(num))\n",
    "    \n",
    "     else:\n",
    "         print('Invalid')\n",
    "        "
   ]
  },
  {
   "cell_type": "code",
   "execution_count": 4,
   "metadata": {},
   "outputs": [
    {
     "name": "stdout",
     "output_type": "stream",
     "text": [
      "60\n",
      "6000\n",
      "20.0\n",
      "Invalid\n"
     ]
    }
   ],
   "source": [
    "agg(10,20,30)\n",
    "agg(10,20,30, operator ='mul')\n",
    "agg(10,20,30, operator='mean')\n",
    "agg(10,20,30, operator='sheen')"
   ]
  }
 ],
 "metadata": {
  "kernelspec": {
   "display_name": "base",
   "language": "python",
   "name": "python3"
  },
  "language_info": {
   "codemirror_mode": {
    "name": "ipython",
    "version": 3
   },
   "file_extension": ".py",
   "mimetype": "text/x-python",
   "name": "python",
   "nbconvert_exporter": "python",
   "pygments_lexer": "ipython3",
   "version": "3.10.10"
  },
  "orig_nbformat": 4
 },
 "nbformat": 4,
 "nbformat_minor": 2
}
