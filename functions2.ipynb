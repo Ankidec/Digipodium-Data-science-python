{
 "cells": [
  {
   "attachments": {},
   "cell_type": "markdown",
   "metadata": {},
   "source": [
    "programming fuctions \n",
    "- **predefined fuctions** \n",
    "    - *standard library* \n",
    "       - the fuctions that are imported by default when executing python code\n",
    "    - library fuctions (module)\n",
    "      - 1preinstalled \n",
    "         -for example \n",
    "           - os \n",
    "           - math \n",
    "           - random\n",
    "           - datetime \n",
    "      - *3rd party* \n",
    "          - install with pip\n",
    "            - pip install <package-name>\n",
    "            - pip show <package- name>\n",
    "          - install with conda\n",
    "             - conda install<repo><package-name>\n",
    "- **user defined fuctions**\n",
    "- fuctions with name \n",
    "  - 1.fuctions without parameters and return value \n",
    "  - 2.fuctions with parameters \n",
    "    - required parameters \n",
    "    - defult parameters\n",
    "    - named parameters\n",
    "    - variable parameters\n",
    "    - keyword parameters \n",
    "  - 3.fuctions with return value\n",
    "  - 4.fuctions with both parameters and returs value \n",
    "  - 5.generators  \n",
    "- fuctions without name  \n",
    "     - *lambda fuctions\n"
   ]
  },
  {
   "cell_type": "code",
   "execution_count": 14,
   "metadata": {},
   "outputs": [],
   "source": [
    "# simple interest\n",
    "def si(p,r,t):\n",
    "    ans = p * r * t / 100\n",
    "    print(f'Simple Interest is {ans:.2f}')"
   ]
  },
  {
   "cell_type": "code",
   "execution_count": 16,
   "metadata": {},
   "outputs": [
    {
     "name": "stdout",
     "output_type": "stream",
     "text": [
      "Simple Interest is 100.00\n"
     ]
    }
   ],
   "source": [
    "si (1000,5,2)"
   ]
  },
  {
   "cell_type": "code",
   "execution_count": 18,
   "metadata": {},
   "outputs": [
    {
     "name": "stdout",
     "output_type": "stream",
     "text": [
      "\u001b[1;31mSignature:\u001b[0m \u001b[0msi\u001b[0m\u001b[1;33m(\u001b[0m\u001b[0mp\u001b[0m\u001b[1;33m,\u001b[0m \u001b[0mr\u001b[0m\u001b[1;33m,\u001b[0m \u001b[0mt\u001b[0m\u001b[1;33m)\u001b[0m\u001b[1;33m\u001b[0m\u001b[1;33m\u001b[0m\u001b[0m\n",
      "\u001b[1;31mDocstring:\u001b[0m <no docstring>\n",
      "\u001b[1;31mFile:\u001b[0m      c:\\users\\ps3\\appdata\\local\\temp\\ipykernel_2692\\1632985822.py\n",
      "\u001b[1;31mType:\u001b[0m      function"
     ]
    }
   ],
   "source": [
    "si?"
   ]
  }
 ],
 "metadata": {
  "kernelspec": {
   "display_name": "base",
   "language": "python",
   "name": "python3"
  },
  "language_info": {
   "codemirror_mode": {
    "name": "ipython",
    "version": 3
   },
   "file_extension": ".py",
   "mimetype": "text/x-python",
   "name": "python",
   "nbconvert_exporter": "python",
   "pygments_lexer": "ipython3",
   "version": "3.10.10"
  },
  "orig_nbformat": 4
 },
 "nbformat": 4,
 "nbformat_minor": 2
}
