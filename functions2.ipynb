{
 "cells": [
  {
   "cell_type": "markdown",
   "metadata": {},
   "source": [
    "**Functions**\n",
    ". Reuse of the code\n",
    ". make the code more readable\n",
    ". break the complex code into smaller codes\n",
    ". customization\n",
    "**programming functions**  \n",
    " 1-predefined functions\n",
    "   . standard library functions\n",
    "     .the functions that are imported by default when executing python code\n",
    "library(modules) functions\n"
   ]
  },
  {
   "cell_type": "code",
   "execution_count": 14,
   "metadata": {},
   "outputs": [],
   "source": [
    "# simple interest\n",
    "def si(p,r,t):\n",
    "    '''A functions to calculate simple interest'''\n",
    "    ans = p * r * t / 100\n",
    "    print(f'Simple Interest is {ans:.2f}')"
   ]
  },
  {
   "cell_type": "code",
   "execution_count": 16,
   "metadata": {},
   "outputs": [
    {
     "name": "stdout",
     "output_type": "stream",
     "text": [
      "Simple Interest is 100.00\n"
     ]
    }
   ],
   "source": [
    "si (1000,5,2)"
   ]
  },
  {
   "cell_type": "code",
   "execution_count": 1,
   "metadata": {},
   "outputs": [
    {
     "name": "stdout",
     "output_type": "stream",
     "text": [
      "8 is not a prime number\n"
     ]
    }
   ],
   "source": [
    "#prime number\n",
    "def prime_number(n):\n",
    "    i = 2\n",
    "    count = 0\n",
    "    while i <= n/2:\n",
    "        if n%i == 0:\n",
    "            count += 1\n",
    "            break\n",
    "        i += 1\n",
    "    if (count == 0):\n",
    "        print(f'{n} is a prime number')\n",
    "    else: \n",
    "        print(f'{n} is not a prime number')\n",
    "\n",
    "prime_number(8)"
   ]
  },
  {
   "cell_type": "code",
   "execution_count": 1,
   "metadata": {},
   "outputs": [
    {
     "name": "stdout",
     "output_type": "stream",
     "text": [
      "1-2-3\n"
     ]
    }
   ],
   "source": [
    "print(1,2,3,sep='-')"
   ]
  },
  {
   "cell_type": "code",
   "execution_count": 5,
   "metadata": {},
   "outputs": [],
   "source": [
    "def hypotenuse(p=1, b=1):\n",
    "    h = (p**2 + b**2) **0.5\n",
    "    print(h)"
   ]
  },
  {
   "cell_type": "code",
   "execution_count": 8,
   "metadata": {},
   "outputs": [
    {
     "name": "stdout",
     "output_type": "stream",
     "text": [
      "1.4142135623730951\n",
      "5.0990195135927845\n",
      "13.0\n",
      "11.180339887498949\n",
      "17.69180601295413\n",
      "13.0\n",
      "9.219544457292887\n",
      "9.219544457292887\n",
      "9.219544457292887\n",
      "9.219544457292887\n"
     ]
    }
   ],
   "source": [
    "hypotenuse()\n",
    "hypotenuse(5)\n",
    "hypotenuse(12,5)\n",
    "hypotenuse(p=10, b=5) #named arguments\n",
    "hypotenuse(b=13,p=12)\n",
    "hypotenuse(12, b=5) # positional argument\n",
    "\n",
    "x = int (input('Perp'))\n",
    "y = int(input('Base'))\n",
    "hypotenuse(x,y)\n",
    "hypotenuse(p=x, b=y)\n",
    "hypotenuse(x, b=y)\n",
    "hypotenuse(b=y, p=x)"
   ]
  },
  {
   "cell_type": "code",
   "execution_count": 2,
   "metadata": {},
   "outputs": [
    {
     "name": "stdout",
     "output_type": "stream",
     "text": [
      "1\n",
      "2\n",
      "24\n",
      "40320\n"
     ]
    }
   ],
   "source": [
    "#variable arguments used in libraries and projects\n",
    "\n",
    "def multiplier(*num):\n",
    "    ans = 1\n",
    "    for i in num:\n",
    "        ans *= i\n",
    "    print(ans)\n",
    "multiplier()\n",
    "multiplier(2)\n",
    "multiplier(2,3,4)\n",
    "multiplier(2,3,4,5,6,7,8)"
   ]
  },
  {
   "cell_type": "code",
   "execution_count": 3,
   "metadata": {},
   "outputs": [],
   "source": [
    "def agg(*num, operator=\"add\"):\n",
    "     if operator == 'add':\n",
    "          ans = 0\n",
    "          for i in num:\n",
    "               ans +=i\n",
    "          print(ans)\n",
    "     elif operator == 'mul':\n",
    "          ans = 1\n",
    "          for i in num:\n",
    "               ans *=i\n",
    "          print(ans)\n",
    "     elif operator == 'mean':\n",
    "          ans = 0\n",
    "          for i in num:\n",
    "            ans += i\n",
    "          print(ans/len(num))\n",
    "    \n",
    "     else:\n",
    "         print('Invalid')\n",
    "        "
   ]
  },
  {
   "cell_type": "code",
   "execution_count": 4,
   "metadata": {},
   "outputs": [
    {
     "name": "stdout",
     "output_type": "stream",
     "text": [
      "60\n",
      "6000\n",
      "20.0\n",
      "Invalid\n"
     ]
    }
   ],
   "source": [
    "agg(10,20,30)\n",
    "agg(10,20,30, operator ='mul')\n",
    "agg(10,20,30, operator='mean')\n",
    "agg(10,20,30, operator='sheen')"
   ]
  },
  {
   "cell_type": "markdown",
   "metadata": {},
   "source": [
    "functions new sir"
   ]
  },
  {
   "cell_type": "code",
   "execution_count": 1,
   "metadata": {},
   "outputs": [],
   "source": [
    "def hello():\n",
    "    print(\"hello\")"
   ]
  },
  {
   "cell_type": "code",
   "execution_count": 3,
   "metadata": {},
   "outputs": [
    {
     "name": "stdout",
     "output_type": "stream",
     "text": [
      "hello\n"
     ]
    }
   ],
   "source": [
    "hello()"
   ]
  },
  {
   "cell_type": "code",
   "execution_count": 5,
   "metadata": {},
   "outputs": [
    {
     "name": "stdout",
     "output_type": "stream",
     "text": [
      "5\n"
     ]
    }
   ],
   "source": [
    "#Add functions\n",
    "def add(a,b):\n",
    "    return a+b\n",
    "\n",
    "ans=add(2,3)\n",
    "print(ans)"
   ]
  },
  {
   "cell_type": "code",
   "execution_count": 12,
   "metadata": {},
   "outputs": [
    {
     "name": "stdout",
     "output_type": "stream",
     "text": [
      "True\n",
      "False\n"
     ]
    }
   ],
   "source": [
    "def odd(x):\n",
    "    if x%2==0:\n",
    "        return False\n",
    "    else:\n",
    "        return True\n",
    "    \n",
    "print(odd(3))\n",
    "print(odd(4))    "
   ]
  },
  {
   "cell_type": "code",
   "execution_count": 13,
   "metadata": {},
   "outputs": [
    {
     "name": "stdout",
     "output_type": "stream",
     "text": [
      "6\n",
      "20\n"
     ]
    }
   ],
   "source": [
    "#Default Arguments\n",
    "def area(l,b=10):\n",
    "    return l*b\n",
    "\n",
    "print(area(2,3))\n",
    "print(area(2))"
   ]
  },
  {
   "cell_type": "code",
   "execution_count": 16,
   "metadata": {},
   "outputs": [
    {
     "name": "stdout",
     "output_type": "stream",
     "text": [
      "Ankita gupta\n"
     ]
    }
   ],
   "source": [
    "# Keyword Arguments\n",
    "def name(first,last):\n",
    "    return first+\" \"+last\n",
    "\n",
    "print(name(last=\"gupta\",first=\"Ankita\"))\n",
    " "
   ]
  },
  {
   "cell_type": "code",
   "execution_count": 18,
   "metadata": {},
   "outputs": [
    {
     "name": "stdout",
     "output_type": "stream",
     "text": [
      "name is sai\n",
      "age is 20\n",
      "name is sai\n",
      "age is 20\n"
     ]
    }
   ],
   "source": [
    "# Positional Arguments\n",
    "def posn(name,age):\n",
    "    print(\"name is\",name)\n",
    "    print(\"age is\",age)\n",
    "\n",
    "\n",
    "posn(\"sai\",20)\n",
    "posn(age=20,name=\"sai\")    \n",
    "    "
   ]
  },
  {
   "cell_type": "code",
   "execution_count": 21,
   "metadata": {},
   "outputs": [
    {
     "name": "stdout",
     "output_type": "stream",
     "text": [
      "sai\n",
      "vishnu\n",
      "kumar\n",
      "sai vishnu kumar\n",
      "None\n"
     ]
    }
   ],
   "source": [
    "#Arbitrart argument\n",
    "#args\n",
    "#kwargs\n",
    "def sentence(*args):\n",
    "    for i in args:\n",
    "        print(i)\n",
    "\n",
    "print(sentence(\"sai\",\"vishnu\",\"kumar\",\"sai vishnu kumar\"))        "
   ]
  },
  {
   "cell_type": "code",
   "execution_count": 24,
   "metadata": {},
   "outputs": [
    {
     "name": "stdout",
     "output_type": "stream",
     "text": [
      "{'name': 'sai', 'age': 20, 'place': 'hyd'}\n",
      "name sai\n",
      "age 20\n",
      "place hyd\n",
      "1\n"
     ]
    }
   ],
   "source": [
    "def fun(**kwargs):\n",
    "    print(kwargs)\n",
    "    for i in kwargs:\n",
    "        print(i,kwargs[i])\n",
    "\n",
    "    return 1 \n",
    "\n",
    "print(fun(name=\"sai\",age=20,place=\"hyd\"))\n",
    "\n",
    "#is me bydefalt dictionary ho jata h but yeh real me parametrs hote h"
   ]
  },
  {
   "cell_type": "markdown",
   "metadata": {},
   "source": [
    "LAMBDA FUNCTIONS\n",
    "* it is a one line functions"
   ]
  },
  {
   "cell_type": "code",
   "execution_count": 25,
   "metadata": {},
   "outputs": [
    {
     "name": "stdout",
     "output_type": "stream",
     "text": [
      "27\n"
     ]
    }
   ],
   "source": [
    "def cube(x):\n",
    "    return x**3\n",
    "\n",
    "print(cube(3))\n",
    "    "
   ]
  },
  {
   "cell_type": "code",
   "execution_count": 1,
   "metadata": {},
   "outputs": [
    {
     "name": "stdout",
     "output_type": "stream",
     "text": [
      "8\n"
     ]
    }
   ],
   "source": [
    "cube=lambda x:x**3\n",
    "print(cube(2))"
   ]
  },
  {
   "cell_type": "code",
   "execution_count": 28,
   "metadata": {},
   "outputs": [
    {
     "name": "stdout",
     "output_type": "stream",
     "text": [
      "5.0\n"
     ]
    }
   ],
   "source": [
    "def hypotenuse(b,h):\n",
    "    return (b**2+h**2)**0.5\n",
    "\n",
    "print(hypotenuse(3,4))"
   ]
  },
  {
   "cell_type": "code",
   "execution_count": 37,
   "metadata": {},
   "outputs": [
    {
     "name": "stdout",
     "output_type": "stream",
     "text": [
      "5.0\n"
     ]
    }
   ],
   "source": [
    "hypo=lambda b,h: (b**2+h**2)**0.5\n",
    "print(hypo(3,4))\n"
   ]
  },
  {
   "cell_type": "code",
   "execution_count": 2,
   "metadata": {},
   "outputs": [
    {
     "data": {
      "text/plain": [
       "5"
      ]
     },
     "execution_count": 2,
     "metadata": {},
     "output_type": "execute_result"
    }
   ],
   "source": [
    "def max(x,y):\n",
    "    if x>y:\n",
    "        return x\n",
    "    else:\n",
    "        return y\n",
    "max(4,5)"
   ]
  },
  {
   "cell_type": "code",
   "execution_count": 3,
   "metadata": {},
   "outputs": [
    {
     "name": "stdout",
     "output_type": "stream",
     "text": [
      "3\n"
     ]
    }
   ],
   "source": [
    "max = lambda x,y : x if x>y else y\n",
    "print(max(3,2))"
   ]
  },
  {
   "cell_type": "code",
   "execution_count": 4,
   "metadata": {},
   "outputs": [
    {
     "name": "stdout",
     "output_type": "stream",
     "text": [
      "even\n"
     ]
    }
   ],
   "source": [
    "odd_even = lambda x : \"even\" if x%2 == 0 else \"odd\"\n",
    "print(odd_even(2))"
   ]
  },
  {
   "cell_type": "code",
   "execution_count": 38,
   "metadata": {},
   "outputs": [
    {
     "name": "stdout",
     "output_type": "stream",
     "text": [
      "0\n",
      "1\n",
      "2\n",
      "3\n",
      "4\n"
     ]
    }
   ],
   "source": [
    "arr=[lambda arg=x: arg for x in range(5)]\n",
    "for i in arr:\n",
    "    print(i())"
   ]
  },
  {
   "cell_type": "code",
   "execution_count": 40,
   "metadata": {},
   "outputs": [
    {
     "name": "stdout",
     "output_type": "stream",
     "text": [
      "[[0, 0, 0, 0], [0, 0, 0, 0], [0, 0, 0, 0]]\n"
     ]
    }
   ],
   "source": [
    "matrix=[[0 for i in range(4)] for j in range(3)]\n",
    "print(matrix)"
   ]
  },
  {
   "cell_type": "code",
   "execution_count": 42,
   "metadata": {},
   "outputs": [
    {
     "name": "stdout",
     "output_type": "stream",
     "text": [
      "[[0, 0, 0, 0], [0, 0, 0, 0], [0, 0, 0, 0]]\n"
     ]
    }
   ],
   "source": [
    "matrix=[]\n",
    "for i in range(3):\n",
    "    sub=[]\n",
    "    for j in range(4):\n",
    "        sub.append(0)\n",
    "    matrix.append(sub)    \n",
    "\n",
    "print(matrix)    "
   ]
  },
  {
   "cell_type": "code",
   "execution_count": 43,
   "metadata": {},
   "outputs": [
    {
     "name": "stdout",
     "output_type": "stream",
     "text": [
      "[[0, 0, 0, 0], [0, 0, 0, 0], [0, 0, 0, 0]]\n"
     ]
    }
   ],
   "source": [
    "mat=[[0]*4]*3\n",
    "print(mat)"
   ]
  },
  {
   "cell_type": "code",
   "execution_count": null,
   "metadata": {},
   "outputs": [],
   "source": []
  }
 ],
 "metadata": {
  "kernelspec": {
   "display_name": "base",
   "language": "python",
   "name": "python3"
  },
  "language_info": {
   "codemirror_mode": {
    "name": "ipython",
    "version": 3
   },
   "file_extension": ".py",
   "mimetype": "text/x-python",
   "name": "python",
   "nbconvert_exporter": "python",
   "pygments_lexer": "ipython3",
   "version": "3.10.10"
  },
  "orig_nbformat": 4
 },
 "nbformat": 4,
 "nbformat_minor": 2
}
