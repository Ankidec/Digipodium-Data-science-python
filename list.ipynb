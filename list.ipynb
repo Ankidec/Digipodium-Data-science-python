{
 "cells": [
  {
   "attachments": {},
   "cell_type": "markdown",
   "metadata": {},
   "source": [
    "# INDEX"
   ]
  },
  {
   "cell_type": "code",
   "execution_count": 29,
   "metadata": {},
   "outputs": [
    {
     "name": "stdout",
     "output_type": "stream",
     "text": [
      "['truecaller', 'snapchat', 'whatsapp', 'insta', 'chrome', 'meet', 'music', 'Gpay', 'phonepe', 'telegram', 'youtube']\n",
      "['whatsapp', 'insta', 'chrome']\n",
      "['meet', 'music', 'Gpay', 'phonepe', 'telegram', 'youtube']\n",
      "['truecaller', 'snapchat', 'whatsapp', 'insta', 'chrome', 'meet', 'music', 'Gpay', 'phonepe', 'telegram', 'youtube']\n",
      "['snapchat', 'insta', 'meet', 'Gpay']\n",
      "youtube\n"
     ]
    }
   ],
   "source": [
    "apps=[\"truecaller\",\"snapchat\",\"whatsapp\",\"insta\",\"chrome\",\"meet\",\"music\",\"Gpay\",\"phonepe\",\"telegram\",\"youtube\"]\n",
    "print(apps)\n",
    "print(apps[2:5])\n",
    "print(apps[5: ])\n",
    "print(apps[ : ])\n",
    "print(apps[1:9:2])\n",
    "print(apps[-1])\n"
   ]
  },
  {
   "cell_type": "code",
   "execution_count": 30,
   "metadata": {},
   "outputs": [
    {
     "name": "stdout",
     "output_type": "stream",
     "text": [
      "11\n"
     ]
    }
   ],
   "source": [
    "print(len(apps))"
   ]
  },
  {
   "cell_type": "code",
   "execution_count": 31,
   "metadata": {},
   "outputs": [
    {
     "name": "stdout",
     "output_type": "stream",
     "text": [
      "['truecaller', 'snapchat', 'whatsapp', 'insta', 'chrome', 'meet', 'music', 'Gpay', 'phonepe', 'telegram', 'youtube', 'firefox']\n"
     ]
    }
   ],
   "source": [
    "#add an element at a end of the list\n",
    "apps.append('firefox')\n",
    "print(apps)\n"
   ]
  },
  {
   "cell_type": "code",
   "execution_count": 32,
   "metadata": {},
   "outputs": [
    {
     "name": "stdout",
     "output_type": "stream",
     "text": [
      "['facebook', 'truecaller', 'snapchat', 'whatsapp', 'insta', 'chrome', 'meet', 'music', 'Gpay', 'phonepe', 'telegram', 'youtube', 'firefox']\n"
     ]
    }
   ],
   "source": [
    "#add an element at a specific index\n",
    "apps.insert(0,'facebook')\n",
    "print(apps)"
   ]
  },
  {
   "cell_type": "code",
   "execution_count": 35,
   "metadata": {},
   "outputs": [
    {
     "name": "stdout",
     "output_type": "stream",
     "text": [
      "['facebook', 'truecaller', 'snapchat', 'whatsapp', 'insta', 'chrome', 'meet', 'music', 'Gpay', 'phonepe', 'telegram', 'youtube']\n"
     ]
    }
   ],
   "source": [
    "#reverse the list\n",
    "apps.reverse()\n",
    "print(apps)"
   ]
  },
  {
   "cell_type": "code",
   "execution_count": 36,
   "metadata": {},
   "outputs": [
    {
     "name": "stdout",
     "output_type": "stream",
     "text": [
      "['truecaller', 'snapchat', 'whatsapp', 'insta', 'chrome', 'meet', 'music', 'Gpay', 'phonepe', 'telegram', 'youtube']\n"
     ]
    }
   ],
   "source": [
    "#removes the element at the specified position\n",
    "apps.pop(0)\n",
    "print(apps)"
   ]
  },
  {
   "cell_type": "code",
   "execution_count": 38,
   "metadata": {},
   "outputs": [
    {
     "name": "stdout",
     "output_type": "stream",
     "text": [
      "['Gpay', 'chrome', 'insta', 'meet', 'music', 'phonepe', 'snapchat', 'telegram', 'truecaller', 'whatsapp', 'youtube']\n"
     ]
    }
   ],
   "source": [
    "apps.sort()\n",
    "print(apps)"
   ]
  },
  {
   "cell_type": "code",
   "execution_count": 40,
   "metadata": {},
   "outputs": [
    {
     "name": "stdout",
     "output_type": "stream",
     "text": [
      "1\n"
     ]
    }
   ],
   "source": [
    "x=apps.count('meet')\n",
    "print(x)"
   ]
  },
  {
   "cell_type": "code",
   "execution_count": 42,
   "metadata": {},
   "outputs": [
    {
     "name": "stdout",
     "output_type": "stream",
     "text": [
      "['Gpay', 'chrome', 'insta', 'meet', 'music', 'phonepe', 'snapchat', 'telegram', 'truecaller', 'whatsapp', 'youtube']\n"
     ]
    }
   ],
   "source": [
    "apps.copy()\n",
    "print(apps)"
   ]
  },
  {
   "cell_type": "code",
   "execution_count": 44,
   "metadata": {},
   "outputs": [
    {
     "name": "stdout",
     "output_type": "stream",
     "text": [
      "['Gpay', 'chrome', 'insta', 'meet', 'music', 'phonepe', 'snapchat', 'telegram', 'truecaller', 'whatsapp', 'youtube', 'acer', 'email', 'chalo', 'drive', 'acer', 'email', 'chalo', 'drive']\n"
     ]
    }
   ],
   "source": [
    "apps2=[\"acer\",\"email\",\"chalo\",\"drive\"]\n",
    "apps.extend(apps2)\n",
    "print(apps)"
   ]
  },
  {
   "cell_type": "code",
   "execution_count": 55,
   "metadata": {},
   "outputs": [
    {
     "name": "stdout",
     "output_type": "stream",
     "text": [
      "0\n"
     ]
    }
   ],
   "source": [
    "apps=['Gpay','phonepe','insta','meet','music','chrome','snapchat','telegram']\n",
    "x=apps.index('Gpay')\n",
    "print(x)"
   ]
  },
  {
   "cell_type": "code",
   "execution_count": 59,
   "metadata": {},
   "outputs": [
    {
     "name": "stdout",
     "output_type": "stream",
     "text": [
      "68\n"
     ]
    }
   ],
   "source": [
    "x=[2,3,5,6,8,9,3,6,7,9,10]\n",
    "y=sum(x)\n",
    "print(y)"
   ]
  },
  {
   "cell_type": "code",
   "execution_count": 60,
   "metadata": {},
   "outputs": [
    {
     "name": "stdout",
     "output_type": "stream",
     "text": [
      "10\n",
      "2\n"
     ]
    }
   ],
   "source": [
    "z=max(x)\n",
    "print(z)\n",
    "c=min(x)\n",
    "print(c)"
   ]
  },
  {
   "cell_type": "code",
   "execution_count": null,
   "metadata": {},
   "outputs": [],
   "source": [
    "#Filtering\n",
    "colors=['red','gr']"
   ]
  }
 ],
 "metadata": {
  "kernelspec": {
   "display_name": "Python 3",
   "language": "python",
   "name": "python3"
  },
  "language_info": {
   "codemirror_mode": {
    "name": "ipython",
    "version": 3
   },
   "file_extension": ".py",
   "mimetype": "text/x-python",
   "name": "python",
   "nbconvert_exporter": "python",
   "pygments_lexer": "ipython3",
   "version": "3.10.10"
  },
  "orig_nbformat": 4
 },
 "nbformat": 4,
 "nbformat_minor": 2
}
