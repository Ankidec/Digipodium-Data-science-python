{
 "cells": [
  {
   "cell_type": "markdown",
   "metadata": {},
   "source": [
    "1>-Write a program to print numbers from 1 to 10 using a for loop."
   ]
  },
  {
   "cell_type": "code",
   "execution_count": 13,
   "metadata": {},
   "outputs": [
    {
     "name": "stdout",
     "output_type": "stream",
     "text": [
      "1\n",
      "2\n",
      "3\n",
      "4\n",
      "5\n",
      "6\n",
      "7\n",
      "8\n",
      "9\n"
     ]
    }
   ],
   "source": [
    "for i in range(1,10):\n",
    "    print(i)"
   ]
  },
  {
   "cell_type": "markdown",
   "metadata": {},
   "source": [
    "2>-Write a program to print the multiplication table of a given number using a while loop."
   ]
  },
  {
   "cell_type": "code",
   "execution_count": 14,
   "metadata": {},
   "outputs": [
    {
     "name": "stdout",
     "output_type": "stream",
     "text": [
      "6 * 1  = 6\n",
      "6 * 2  = 12\n",
      "6 * 3  = 18\n",
      "6 * 4  = 24\n",
      "6 * 5  = 30\n",
      "6 * 6  = 36\n",
      "6 * 7  = 42\n",
      "6 * 8  = 48\n",
      "6 * 9  = 54\n",
      "6 * 10  = 60\n"
     ]
    }
   ],
   "source": [
    "#print table of a given number\n",
    "n=int(input(\"Enter a number for table\"))\n",
    "for i in range(1,11):\n",
    "    t=n*i\n",
    "    print(f'{n} * {i}  = {t}')"
   ]
  },
  {
   "cell_type": "markdown",
   "metadata": {},
   "source": [
    "3>-Write a program to find the sum of all even numbers between 1 and 100 using a for loop."
   ]
  },
  {
   "cell_type": "code",
   "execution_count": 15,
   "metadata": {},
   "outputs": [
    {
     "name": "stdout",
     "output_type": "stream",
     "text": [
      "2 4 6 8 10 12 14 16 18 20 22 24 26 28 30 32 34 36 38 40 42 44 46 48 50 52 54 56 58 60 62 64 66 68 70 72 74 76 78 80 82 84 86 88 90 92 94 96 98 100 "
     ]
    }
   ],
   "source": [
    "start, end = 1, 100\n",
    "# iterating each number in list\n",
    "for num in range(start, end + 1):\n",
    "      # checking condition\n",
    "    if num % 2 == 0:\n",
    "        print(num, end = \" \")\n"
   ]
  },
  {
   "cell_type": "markdown",
   "metadata": {},
   "source": [
    "4>-Write a program to check if a given number is prime or not using a while loop"
   ]
  },
  {
   "cell_type": "code",
   "execution_count": 16,
   "metadata": {},
   "outputs": [
    {
     "name": "stdout",
     "output_type": "stream",
     "text": [
      "6 is a prime number\n"
     ]
    }
   ],
   "source": [
    "n=int(input(\"Enter a number\"))\n",
    "i=1\n",
    "while i<=n:\n",
    "    if n%i==0:\n",
    "        print(f'{n} is a prime number')\n",
    "        i+=1\n",
    "        break\n",
    "else:\n",
    "    print(f'{n} is not a prime number')"
   ]
  },
  {
   "cell_type": "markdown",
   "metadata": {},
   "source": [
    "5>-Write a program to calculate the factorial of a number using a for loop."
   ]
  },
  {
   "cell_type": "code",
   "execution_count": 17,
   "metadata": {},
   "outputs": [
    {
     "name": "stdout",
     "output_type": "stream",
     "text": [
      "40320\n"
     ]
    }
   ],
   "source": [
    "n=int(input(\"Enter a number\"))\n",
    "f=1\n",
    "for i in range(1,n+1):\n",
    "    f=f*i\n",
    "print(f)"
   ]
  },
  {
   "cell_type": "markdown",
   "metadata": {},
   "source": [
    "6>-Write a program to print the Fibonacci series up to a given limit using a while loop."
   ]
  },
  {
   "cell_type": "code",
   "execution_count": 18,
   "metadata": {},
   "outputs": [
    {
     "ename": "ValueError",
     "evalue": "invalid literal for int() with base 10: 'b'",
     "output_type": "error",
     "traceback": [
      "\u001b[1;31m---------------------------------------------------------------------------\u001b[0m",
      "\u001b[1;31mValueError\u001b[0m                                Traceback (most recent call last)",
      "Cell \u001b[1;32mIn[18], line 1\u001b[0m\n\u001b[1;32m----> 1\u001b[0m n \u001b[39m=\u001b[39m \u001b[39mint\u001b[39;49m(\u001b[39minput\u001b[39;49m())\n\u001b[0;32m      2\u001b[0m a \u001b[39m=\u001b[39m \u001b[39m0\u001b[39m\n\u001b[0;32m      3\u001b[0m b \u001b[39m=\u001b[39m \u001b[39m1\u001b[39m\n",
      "\u001b[1;31mValueError\u001b[0m: invalid literal for int() with base 10: 'b'"
     ]
    }
   ],
   "source": [
    "n = int(input())\n",
    "a = 0\n",
    "b = 1\n",
    "sum = a + b\n",
    "count = 1\n",
    "print(\"Fibonacci series is: \", end=\" \")\n",
    "while (count <= n):\n",
    "\tcount += 1\n",
    "\tprint(a, end=\" \")\n",
    "\ta = b\n",
    "\tb = sum\n",
    "\tsum = a + b"
   ]
  },
  {
   "cell_type": "markdown",
   "metadata": {},
   "source": [
    "7>-Write a program to find the largest element in an array using a for loop."
   ]
  },
  {
   "cell_type": "code",
   "execution_count": null,
   "metadata": {},
   "outputs": [
    {
     "name": "stdout",
     "output_type": "stream",
     "text": [
      "15\n"
     ]
    }
   ],
   "source": [
    "import array as arr \n",
    "ar = arr.array('i',[13,15,12,11,14])\n",
    "max= ar[0]\n",
    "for i in range(0,len(ar)):\n",
    "    if ar[i]>max:\n",
    "        max=ar[i]\n",
    "        print(max)"
   ]
  },
  {
   "cell_type": "markdown",
   "metadata": {},
   "source": [
    "8>-Write a program to reverse a given string using a while loop."
   ]
  },
  {
   "cell_type": "code",
   "execution_count": null,
   "metadata": {},
   "outputs": [
    {
     "name": "stdout",
     "output_type": "stream",
     "text": [
      "atikna si eman y"
     ]
    }
   ],
   "source": [
    "str='my name is ankita'\n",
    "i= -1\n",
    "while i>-len(str):\n",
    "    print(str[i], end=\"\")\n",
    "    i-=1"
   ]
  },
  {
   "cell_type": "markdown",
   "metadata": {},
   "source": [
    "9>-Write a program to print the ASCII values of all uppercase letters using a for loop"
   ]
  },
  {
   "cell_type": "code",
   "execution_count": null,
   "metadata": {},
   "outputs": [
    {
     "name": "stdout",
     "output_type": "stream",
     "text": [
      "65 66 67 68 69 70 71 72 73 74 75 76 77 78 79 80 81 82 83 84 85 86 87 88 89 90 "
     ]
    }
   ],
   "source": [
    "from string import ascii_uppercase\n",
    "for c in ascii_uppercase:\n",
    "    print(ord(c),end=' ') "
   ]
  },
  {
   "cell_type": "code",
   "execution_count": null,
   "metadata": {},
   "outputs": [
    {
     "name": "stdout",
     "output_type": "stream",
     "text": [
      "65 A\n",
      "66 B\n",
      "67 C\n",
      "68 D\n",
      "69 E\n",
      "70 F\n",
      "71 G\n",
      "72 H\n",
      "73 I\n",
      "74 J\n",
      "75 K\n",
      "76 L\n",
      "77 M\n",
      "78 N\n",
      "79 O\n",
      "80 P\n",
      "81 Q\n",
      "82 R\n",
      "83 S\n",
      "84 T\n",
      "85 U\n",
      "86 V\n",
      "87 W\n",
      "88 X\n",
      "89 Y\n",
      "90 Z\n"
     ]
    }
   ],
   "source": [
    "for ch in range(65,91):\n",
    "    print(ch , chr(ch))"
   ]
  },
  {
   "cell_type": "markdown",
   "metadata": {},
   "source": [
    "10>-Write a program to check if a given string is a palindrome using a while loop."
   ]
  },
  {
   "cell_type": "code",
   "execution_count": null,
   "metadata": {},
   "outputs": [
    {
     "name": "stdout",
     "output_type": "stream",
     "text": [
      "iikna\n",
      "ankii is not a palindrome string\n"
     ]
    }
   ],
   "source": [
    "st=input(\"Enter a string\")\n",
    "i=1\n",
    "r=\"\"\n",
    "while i<=len(st):\n",
    "    r=st[::-1]\n",
    "    i+=1\n",
    "print(r)\n",
    "if r==st:\n",
    "    print(f'{st} is a palindrome string')\n",
    "else:\n",
    "    print(f'{st} is not a palindrome string')"
   ]
  },
  {
   "cell_type": "markdown",
   "metadata": {},
   "source": [
    "11>-Write a program to calculate the average of a list of numbers using a for loop."
   ]
  },
  {
   "cell_type": "code",
   "execution_count": null,
   "metadata": {},
   "outputs": [
    {
     "name": "stdout",
     "output_type": "stream",
     "text": [
      "Average of given numbers of list is 13.0\n"
     ]
    }
   ],
   "source": [
    "l=[11,12,13,14,15]\n",
    "s=0\n",
    "for i in l:\n",
    "    s=s+i\n",
    "avg=s/len(l)\n",
    "print(f'Average of given numbers of list is {avg}')"
   ]
  },
  {
   "cell_type": "markdown",
   "metadata": {},
   "source": [
    "12>-Write a program to find the smallest element in an array using a while loop."
   ]
  },
  {
   "cell_type": "code",
   "execution_count": 21,
   "metadata": {},
   "outputs": [
    {
     "name": "stdout",
     "output_type": "stream",
     "text": [
      "4\n"
     ]
    }
   ],
   "source": [
    "arr = [10, 89, 9, 56, 4, 80, 8]\n",
    "arr.sort()\n",
    "print (arr[0])\n"
   ]
  },
  {
   "cell_type": "markdown",
   "metadata": {},
   "source": [
    "13>-Write a program to calculate the sum of digits of a number using a for loop."
   ]
  },
  {
   "cell_type": "code",
   "execution_count": 22,
   "metadata": {},
   "outputs": [
    {
     "name": "stdout",
     "output_type": "stream",
     "text": [
      "sum of the digits of an entered number 123 is =  6\n"
     ]
    }
   ],
   "source": [
    "num = int(input(\"Please enter the number:\"))\n",
    "x = num\n",
    "sum = 0\n",
    "rem = 0\n",
    "while num>0:\n",
    "    rem = num % 10\n",
    "    num = num // 10\n",
    "    sum = sum + rem\n",
    "print(\"sum of the digits of an entered number\", x, \"is = \", sum)    \n"
   ]
  },
  {
   "cell_type": "markdown",
   "metadata": {},
   "source": [
    "14>-Write a program to check if a given year is a leap year using a while loop."
   ]
  },
  {
   "cell_type": "code",
   "execution_count": 24,
   "metadata": {},
   "outputs": [
    {
     "name": "stdout",
     "output_type": "stream",
     "text": [
      "given year is a leap year\n"
     ]
    }
   ],
   "source": [
    "y=int(input(\"Enter a year:\"))\n",
    "if (y%400==0 and y%100==0) or (y%4==0):\n",
    "    print(\"given year is a leap year\")\n",
    "else:\n",
    "    print(\"given year is not a leap year\")"
   ]
  },
  {
   "cell_type": "markdown",
   "metadata": {},
   "source": [
    "15>-Write a program to print the multiplication table of numbers from 1 to 5 using a for loop"
   ]
  },
  {
   "cell_type": "code",
   "execution_count": 25,
   "metadata": {},
   "outputs": [
    {
     "name": "stdout",
     "output_type": "stream",
     "text": [
      "Multiplication table from 1 to 5\n",
      "   1    2    3    4    5 \n",
      "   2    4    6    8   10 \n",
      "   3    6    9   12   15 \n",
      "   4    8   12   16   20 \n",
      "   5   10   15   20   25 \n",
      "   6   12   18   24   30 \n",
      "   7   14   21   28   35 \n",
      "   8   16   24   32   40 \n",
      "   9   18   27   36   45 \n",
      "  10   20   30   40   50 \n",
      "End of program\n"
     ]
    }
   ],
   "source": [
    "print(\"Multiplication table from 1 to 5\")\n",
    "for i in range (1,11,1):\n",
    "    for j in range(1,6,1):\n",
    "        print(format(i*j,\"4d\"), end=\" \")\n",
    "    print()\n",
    "print(\"End of program\")        "
   ]
  },
  {
   "cell_type": "markdown",
   "metadata": {},
   "source": [
    "16>-Write a program to find the factorial of a number using a while loop."
   ]
  },
  {
   "cell_type": "code",
   "execution_count": 26,
   "metadata": {},
   "outputs": [
    {
     "name": "stdout",
     "output_type": "stream",
     "text": [
      "Factorial of  6 is: 720\n"
     ]
    }
   ],
   "source": [
    "num = int(input(\"Enter the number:\"))\n",
    "fact = 1\n",
    "ans = 1\n",
    "while fact <= num:\n",
    "    ans = ans * fact\n",
    "    fact = fact + 1\n",
    "print(\"Factorial of \", num, \"is:\", ans)    "
   ]
  },
  {
   "cell_type": "markdown",
   "metadata": {},
   "source": [
    "17>-Write a program to count the number of vowels in a given string using a for loo"
   ]
  },
  {
   "cell_type": "code",
   "execution_count": 27,
   "metadata": {},
   "outputs": [
    {
     "name": "stdout",
     "output_type": "stream",
     "text": [
      "8\n"
     ]
    }
   ],
   "source": [
    "str=input(\"enter a string\") # my name is ankita gupta\n",
    "c=0\n",
    "for i in str[1:]:\n",
    "    if i=='a' or i=='e' or i=='i' or i=='o' or i=='u':\n",
    "        c+=1\n",
    "print(c)"
   ]
  },
  {
   "cell_type": "markdown",
   "metadata": {},
   "source": [
    "18>-Write a program to check if a given number is a perfect square using a while loop"
   ]
  },
  {
   "cell_type": "code",
   "execution_count": 28,
   "metadata": {},
   "outputs": [
    {
     "name": "stdout",
     "output_type": "stream",
     "text": [
      "Yes\n"
     ]
    }
   ],
   "source": [
    "n = 2500\n",
    "for i in range(n+1):\n",
    "    if i**2 == n:\n",
    "        print(\"Yes\")\n",
    "        break\n",
    "else:\n",
    "    print(\"No\")"
   ]
  },
  {
   "cell_type": "markdown",
   "metadata": {},
   "source": [
    "19>-Write a program to find the largest and smallest elements in an array using a for loop."
   ]
  },
  {
   "cell_type": "code",
   "execution_count": 30,
   "metadata": {},
   "outputs": [
    {
     "name": "stdout",
     "output_type": "stream",
     "text": [
      "17\n",
      "10\n"
     ]
    }
   ],
   "source": [
    "from array import *\n",
    "arr=[10,11,12,13,14,15,16,17]\n",
    "l=arr[0]\n",
    "s=arr[0]\n",
    "for i in range(len(arr)):\n",
    "      \n",
    "      if arr[i]>l:\n",
    "          l=arr[i]\n",
    "      elif arr[i]<l:\n",
    "           s=arr[i]\n",
    "print(l)\n",
    "print(s)"
   ]
  },
  {
   "cell_type": "markdown",
   "metadata": {},
   "source": [
    "20>-Write a program to reverse the order of words in a sentence using a while loop."
   ]
  },
  {
   "cell_type": "code",
   "execution_count": null,
   "metadata": {},
   "outputs": [],
   "source": []
  }
 ],
 "metadata": {
  "kernelspec": {
   "display_name": "base",
   "language": "python",
   "name": "python3"
  },
  "language_info": {
   "codemirror_mode": {
    "name": "ipython",
    "version": 3
   },
   "file_extension": ".py",
   "mimetype": "text/x-python",
   "name": "python",
   "nbconvert_exporter": "python",
   "pygments_lexer": "ipython3",
   "version": "3.10.10"
  },
  "orig_nbformat": 4
 },
 "nbformat": 4,
 "nbformat_minor": 2
}
