{
 "cells": [
  {
   "attachments": {},
   "cell_type": "markdown",
   "metadata": {},
   "source": [
    "# String \n",
    "  -creating \n",
    "  -indexing \n",
    "  -slicing\n",
    "  -methods\n",
    "   - formatting methods\n",
    "   -validation methods\n",
    "   -utility methods"
   ]
  },
  {
   "cell_type": "code",
   "execution_count": 16,
   "metadata": {},
   "outputs": [],
   "source": [
    "a='hello'\n",
    "b=\"world\"\n",
    "c='''this is a multiline message from the past '''"
   ]
  },
  {
   "cell_type": "code",
   "execution_count": 17,
   "metadata": {},
   "outputs": [
    {
     "data": {
      "text/plain": [
       "'this is a important message'"
      ]
     },
     "execution_count": 17,
     "metadata": {},
     "output_type": "execute_result"
    }
   ],
   "source": [
    "'this is a important message'"
   ]
  },
  {
   "cell_type": "code",
   "execution_count": 18,
   "metadata": {},
   "outputs": [
    {
     "name": "stdout",
     "output_type": "stream",
     "text": [
      "this is a 'important'\n",
      " message\n",
      "this is a 'important'message\n"
     ]
    }
   ],
   "source": [
    "print('this is a \\'important\\'\\n message') #\\ '' me message pass krte h #\\n new line\n",
    "print(\"this is a 'important'message\")"
   ]
  },
  {
   "cell_type": "code",
   "execution_count": 19,
   "metadata": {},
   "outputs": [
    {
     "name": "stdout",
     "output_type": "stream",
     "text": [
      "anki\n"
     ]
    }
   ],
   "source": [
    "name=input ('enter your name')\n",
    "print(name)"
   ]
  },
  {
   "cell_type": "code",
   "execution_count": 20,
   "metadata": {},
   "outputs": [
    {
     "name": "stdout",
     "output_type": "stream",
     "text": [
      "675858589588\n"
     ]
    }
   ],
   "source": [
    "x=str(675858589588)\n",
    "print(x)"
   ]
  },
  {
   "cell_type": "code",
   "execution_count": 21,
   "metadata": {},
   "outputs": [
    {
     "name": "stdout",
     "output_type": "stream",
     "text": [
      "v\n",
      "n\n"
     ]
    }
   ],
   "source": [
    "name='vijay Deenanath chauhan'\n",
    "print(name[0])\n",
    "print(name[-1])"
   ]
  },
  {
   "cell_type": "code",
   "execution_count": 22,
   "metadata": {},
   "outputs": [
    {
     "name": "stdout",
     "output_type": "stream",
     "text": [
      "vijay\n",
      "Deenanath\n",
      "chauhan\n",
      "nahuahc htananeeD yajiv\n",
      "vjyDeaahcahn\n"
     ]
    }
   ],
   "source": [
    "print(name[:5])\n",
    "print(name[6:-8])\n",
    "print(name[-7:])\n",
    "print(name[::-1])#reverse a sequence\n",
    "print(name[::2])#skip every 2nd character "
   ]
  },
  {
   "cell_type": "code",
   "execution_count": 28,
   "metadata": {},
   "outputs": [
    {
     "name": "stdout",
     "output_type": "stream",
     "text": [
      "JOURNEY BEFORE DESTINATION\n",
      "journey before destination\n",
      "Journey Before Destination\n",
      "Journey before destination\n",
      "journey before destination\n",
      "jOURNEY bEFORE dESTINATION\n"
     ]
    }
   ],
   "source": [
    "msg='Journey Before Destination'\n",
    "print(msg.upper())\n",
    "print(msg.lower())\n",
    "print(msg.title())\n",
    "print(msg.capitalize())\n",
    "print(msg.casefold())\n",
    "print(msg.swapcase())"
   ]
  },
  {
   "cell_type": "code",
   "execution_count": 24,
   "metadata": {},
   "outputs": [
    {
     "name": "stdout",
     "output_type": "stream",
     "text": [
      "                        Journey Before Destination\n"
     ]
    }
   ],
   "source": [
    "print(f'{msg:>50}')# center or jitna bhi piche krna ho oh kar skte h"
   ]
  },
  {
   "cell_type": "code",
   "execution_count": 25,
   "metadata": {},
   "outputs": [
    {
     "name": "stdout",
     "output_type": "stream",
     "text": [
      "*************************************Journey Before Destination*************************************\n",
      "Journey Before Destination                                                                          \n",
      "                                                                          Journey Before Destination\n"
     ]
    }
   ],
   "source": [
    "print(msg.center(100,'*'))\n",
    "print(msg.ljust(100))\n",
    "print(msg.rjust(100))"
   ]
  },
  {
   "cell_type": "code",
   "execution_count": 26,
   "metadata": {},
   "outputs": [
    {
     "name": "stdout",
     "output_type": "stream",
     "text": [
      "num pow result\n",
      "1   2   1     \n",
      "2   2   4     \n",
      "3   2   9     \n",
      "4   2   16    \n",
      "5   2   25    \n",
      "6   2   36    \n",
      "7   2   49    \n",
      "8   2   64    \n",
      "9   2   81    \n",
      "10  2   100   \n",
      "11  2   121   \n",
      "12  2   144   \n",
      "13  2   169   \n",
      "14  2   196   \n",
      "15  2   225   \n",
      "16  2   256   \n",
      "17  2   289   \n",
      "18  2   324   \n",
      "19  2   361   \n",
      "20  2   400   \n"
     ]
    }
   ],
   "source": [
    "print('num pow result')\n",
    "for i in range (1,21):\n",
    "    print(f'{i:<3} {2:<3} {i**2:<6}')#<3 yeh out put achche se show ho is liye kiya gya h"
   ]
  },
  {
   "cell_type": "code",
   "execution_count": 27,
   "metadata": {},
   "outputs": [
    {
     "name": "stdout",
     "output_type": "stream",
     "text": [
      "num pow result\n",
      "1   2   1     \n",
      "2   2   4     \n",
      "3   2   27    \n",
      "4   2   256   \n",
      "5   2   3125  \n",
      "6   2   46656 \n",
      "7   2   823543\n",
      "8   2   16777216\n",
      "9   2   387420489\n",
      "10  2   10000000000\n",
      "11  2   285311670611\n",
      "12  2   8916100448256\n",
      "13  2   302875106592253\n",
      "14  2   11112006825558016\n",
      "15  2   437893890380859375\n",
      "16  2   18446744073709551616\n",
      "17  2   827240261886336764177\n",
      "18  2   39346408075296537575424\n",
      "19  2   1978419655660313589123979\n",
      "20  2   104857600000000000000000000\n"
     ]
    }
   ],
   "source": [
    "print('num pow result')\n",
    "for i in range (1,21):\n",
    "    print(f'{i:<3} {2:<3} {i**i:<6}')"
   ]
  },
  {
   "cell_type": "code",
   "execution_count": 29,
   "metadata": {},
   "outputs": [
    {
     "name": "stdout",
     "output_type": "stream",
     "text": [
      "True\n",
      "True\n",
      "False\n"
     ]
    }
   ],
   "source": [
    "a='hello'\n",
    "print(a.isalpha())\n",
    "print(a.isalnum())\n",
    "print(a.isnumeric())\n"
   ]
  },
  {
   "cell_type": "code",
   "execution_count": 32,
   "metadata": {},
   "outputs": [
    {
     "name": "stdout",
     "output_type": "stream",
     "text": [
      "good job\n"
     ]
    }
   ],
   "source": [
    "num1 =input('enter a number:')\n",
    "if num1.isalpha():\n",
    "    print('we dont want alphabets')\n",
    "elif num1.isnumeric():\n",
    "    print('good job')\n",
    "    num1 = int(num1)    "
   ]
  },
  {
   "cell_type": "code",
   "execution_count": 34,
   "metadata": {},
   "outputs": [
    {
     "name": "stdout",
     "output_type": "stream",
     "text": [
      "Hello Engineer\n"
     ]
    }
   ],
   "source": [
    "name='Er. Watson'\n",
    "if name.startswith('Mr.'):\n",
    "    print('Hello Mister')\n",
    "elif name.startswith('Dr.'):\n",
    "    print('Hello Doctor')\n",
    "elif name.startswith('Er.'):\n",
    "    print('Hello Engineer')"
   ]
  },
  {
   "cell_type": "code",
   "execution_count": 35,
   "metadata": {},
   "outputs": [
    {
     "data": {
      "text/plain": [
       "['Journey', 'Before', 'Destination']"
      ]
     },
     "execution_count": 35,
     "metadata": {},
     "output_type": "execute_result"
    }
   ],
   "source": [
    "#most imp functions\n",
    "msg.split()"
   ]
  },
  {
   "cell_type": "code",
   "execution_count": 38,
   "metadata": {},
   "outputs": [
    {
     "name": "stdout",
     "output_type": "stream",
     "text": [
      "['1-0', '2-0', '4-6', '3-6', '6-5']\n"
     ]
    }
   ],
   "source": [
    "data ='1-0,2-0,4-6,3-6,6-5'\n",
    "score = data.split(',')\n",
    "print(score)"
   ]
  },
  {
   "cell_type": "code",
   "execution_count": 40,
   "metadata": {},
   "outputs": [
    {
     "name": "stdout",
     "output_type": "stream",
     "text": [
      "['1', '2', '3', '4', '5', '6', '']\n"
     ]
    }
   ],
   "source": [
    "user_values=input('enter values seperated by ,')\n",
    "print(user_values.split(','))"
   ]
  },
  {
   "cell_type": "code",
   "execution_count": 41,
   "metadata": {},
   "outputs": [
    {
     "data": {
      "text/plain": [
       "'hello this is a list'"
      ]
     },
     "execution_count": 41,
     "metadata": {},
     "output_type": "execute_result"
    }
   ],
   "source": [
    "values =['hello','this','is','a','list']\n",
    "\" \".join(values)"
   ]
  }
 ],
 "metadata": {
  "kernelspec": {
   "display_name": "base",
   "language": "python",
   "name": "python3"
  },
  "language_info": {
   "codemirror_mode": {
    "name": "ipython",
    "version": 3
   },
   "file_extension": ".py",
   "mimetype": "text/x-python",
   "name": "python",
   "nbconvert_exporter": "python",
   "pygments_lexer": "ipython3",
   "version": "3.10.10"
  },
  "orig_nbformat": 4
 },
 "nbformat": 4,
 "nbformat_minor": 2
}
