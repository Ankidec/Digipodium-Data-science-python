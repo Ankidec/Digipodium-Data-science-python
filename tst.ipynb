{
 "cells": [
  {
   "cell_type": "code",
   "execution_count": 1,
   "metadata": {},
   "outputs": [
    {
     "data": {
      "text/plain": [
       "True"
      ]
     },
     "execution_count": 1,
     "metadata": {},
     "output_type": "execute_result"
    }
   ],
   "source": [
    "x=5\n",
    "y=5\n",
    "x==y"
   ]
  },
  {
   "cell_type": "code",
   "execution_count": 11,
   "metadata": {},
   "outputs": [
    {
     "name": "stdout",
     "output_type": "stream",
     "text": [
      "3\n"
     ]
    }
   ],
   "source": [
    "fruit = ['banana','apple','pear']\n",
    "print(len(fruit) )"
   ]
  },
  {
   "cell_type": "code",
   "execution_count": 14,
   "metadata": {},
   "outputs": [
    {
     "data": {
      "text/plain": [
       "['banana,pear,apple']"
      ]
     },
     "execution_count": 14,
     "metadata": {},
     "output_type": "execute_result"
    }
   ],
   "source": [
    "fruitstring = \"banana,pear,apple \"\n",
    "fruitstring.split()"
   ]
  },
  {
   "cell_type": "code",
   "execution_count": 18,
   "metadata": {},
   "outputs": [
    {
     "data": {
      "text/plain": [
       "['A',\n",
       " 'computer',\n",
       " 'would',\n",
       " 'deserve',\n",
       " 'to',\n",
       " 'be',\n",
       " 'called',\n",
       " 'intelligent',\n",
       " 'if',\n",
       " 'it',\n",
       " 'could',\n",
       " 'deceive',\n",
       " 'a',\n",
       " 'human',\n",
       " 'into',\n",
       " 'believing',\n",
       " 'that',\n",
       " 'ist',\n",
       " 'was',\n",
       " 'human']"
      ]
     },
     "execution_count": 18,
     "metadata": {},
     "output_type": "execute_result"
    }
   ],
   "source": [
    "quotelist=\"A computer would deserve  to be called intelligent if it could deceive a human into believing that ist was human\"\n",
    "quotelist.split()"
   ]
  },
  {
   "cell_type": "code",
   "execution_count": 21,
   "metadata": {},
   "outputs": [
    {
     "name": "stdout",
     "output_type": "stream",
     "text": [
      "False\n"
     ]
    }
   ],
   "source": [
    "numberoftwoletterword =0\n",
    "for word in quotelist:\n",
    "    if len == 2:\n",
    "         numberoftwoletterword +=1\n",
    "print(numberoftwoletterword ==5 )         \n"
   ]
  },
  {
   "cell_type": "code",
   "execution_count": 23,
   "metadata": {},
   "outputs": [
    {
     "name": "stdout",
     "output_type": "stream",
     "text": [
      "bananapearapple\n"
     ]
    }
   ],
   "source": [
    "fruitlist = ['banana' 'pear' 'apple']\n",
    "delimiter = \" , \"\n",
    "fruitstring = delimiter. join(fruitlist)\n",
    "print(fruitstring)"
   ]
  },
  {
   "cell_type": "code",
   "execution_count": 26,
   "metadata": {},
   "outputs": [
    {
     "name": "stdout",
     "output_type": "stream",
     "text": [
      "32\n"
     ]
    }
   ],
   "source": [
    "text = \"We spend our time searching for security and hate it when we get it\"\n",
    "print(text.find('security'))"
   ]
  },
  {
   "cell_type": "code",
   "execution_count": 28,
   "metadata": {},
   "outputs": [
    {
     "name": "stdout",
     "output_type": "stream",
     "text": [
      "you can not compare apple and apples\n"
     ]
    }
   ],
   "source": [
    "text = \"you can not compare apple and pears\"\n",
    "text = text.replace (\"pears\",\"apples\")\n",
    "print(text) "
   ]
  },
  {
   "cell_type": "code",
   "execution_count": null,
   "metadata": {},
   "outputs": [],
   "source": []
  }
 ],
 "metadata": {
  "kernelspec": {
   "display_name": "base",
   "language": "python",
   "name": "python3"
  },
  "language_info": {
   "codemirror_mode": {
    "name": "ipython",
    "version": 3
   },
   "file_extension": ".py",
   "mimetype": "text/x-python",
   "name": "python",
   "nbconvert_exporter": "python",
   "pygments_lexer": "ipython3",
   "version": "3.10.10"
  },
  "orig_nbformat": 4
 },
 "nbformat": 4,
 "nbformat_minor": 2
}
